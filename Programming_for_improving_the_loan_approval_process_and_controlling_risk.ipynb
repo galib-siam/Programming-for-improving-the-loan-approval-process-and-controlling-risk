{
  "nbformat": 4,
  "nbformat_minor": 0,
  "metadata": {
    "colab": {
      "provenance": [],
      "toc_visible": true
    },
    "kernelspec": {
      "name": "python3",
      "display_name": "Python 3"
    },
    "language_info": {
      "name": "python"
    }
  },
  "cells": [
    {
      "cell_type": "markdown",
      "source": [
        "> Name : Galib Mahamud Siam\n",
        "\n",
        "> G.siam@my.bpp.com\n",
        "\n",
        ">**SRN: BP0276302**\n",
        "\n",
        "> Version: 1.6\n",
        "\n",
        "> Title of Programme: Programming for improving the loan approval process and controlling risk.\n",
        "\n",
        "> Programming Langauge: Python\n",
        "\n",
        "> Tool/Platform: Google Colab\n",
        "\n",
        "> Objective: Analyze historical data to improve the loan approval process"
      ],
      "metadata": {
        "id": "DFPCUncOZzax"
      }
    },
    {
      "cell_type": "markdown",
      "source": [
        "# Installing Libraries"
      ],
      "metadata": {
        "id": "jZCyhPsg4pK0"
      }
    },
    {
      "cell_type": "markdown",
      "source": [
        "To start our programming for Zappy Financial Services, we first installed the necessary libraries of Pandas to work with data in tabular form, create visualizations, and extract information from PDF files. Here, Tabula, Pandas, and Matplotlib were installed, as these libraries are important for specific tasks like working with PDF data sets, cleaning, analyzing, and visualizing the data.\n",
        "Tabula is a Python library that is used for extracting tables from PDF documents. It allows to parsing tables from PDF files into data frames. It's particularly useful to extract structured data from PDFs, such as tables.\n",
        "Pandas is a powerful and widely used data manipulation and analysis library in Python. It provides data structures and functions for data cleaning, transformation, and analysis. Pandas make it easy to work with structured data and are often used for data cleaning, aggregation, and statistical analysis tasks.\n",
        "Matplotlib is a popular Python library for creating a wide range of static, animated, and interactive plots and visualizations. It is often used for data visualization, allowing us to create charts, graphs, and figures to explore and communicate data insights."
      ],
      "metadata": {
        "id": "slgGowYxafX7"
      }
    },
    {
      "cell_type": "code",
      "source": [
        "!pip install pandas"
      ],
      "metadata": {
        "colab": {
          "base_uri": "https://localhost:8080/"
        },
        "id": "Tz5SsY-xLZcT",
        "outputId": "c4efdb2f-5f9d-4ca5-f70b-35daacf66def"
      },
      "execution_count": null,
      "outputs": [
        {
          "output_type": "stream",
          "name": "stdout",
          "text": [
            "Requirement already satisfied: pandas in /usr/local/lib/python3.10/dist-packages (1.5.3)\n",
            "Requirement already satisfied: python-dateutil>=2.8.1 in /usr/local/lib/python3.10/dist-packages (from pandas) (2.8.2)\n",
            "Requirement already satisfied: pytz>=2020.1 in /usr/local/lib/python3.10/dist-packages (from pandas) (2023.3.post1)\n",
            "Requirement already satisfied: numpy>=1.21.0 in /usr/local/lib/python3.10/dist-packages (from pandas) (1.23.5)\n",
            "Requirement already satisfied: six>=1.5 in /usr/local/lib/python3.10/dist-packages (from python-dateutil>=2.8.1->pandas) (1.16.0)\n"
          ]
        }
      ]
    },
    {
      "cell_type": "code",
      "source": [
        "!java -version\n",
        "!pip install tabula-py\n"
      ],
      "metadata": {
        "colab": {
          "base_uri": "https://localhost:8080/"
        },
        "id": "WZd0yANppzNQ",
        "outputId": "c990523e-af75-42db-b53a-77dc17006af6"
      },
      "execution_count": null,
      "outputs": [
        {
          "output_type": "stream",
          "name": "stdout",
          "text": [
            "openjdk version \"11.0.20.1\" 2023-08-24\n",
            "OpenJDK Runtime Environment (build 11.0.20.1+1-post-Ubuntu-0ubuntu122.04)\n",
            "OpenJDK 64-Bit Server VM (build 11.0.20.1+1-post-Ubuntu-0ubuntu122.04, mixed mode, sharing)\n",
            "Collecting tabula-py\n",
            "  Downloading tabula_py-2.8.2-py3-none-any.whl (12.0 MB)\n",
            "\u001b[2K     \u001b[90m━━━━━━━━━━━━━━━━━━━━━━━━━━━━━━━━━━━━━━━━\u001b[0m \u001b[32m12.0/12.0 MB\u001b[0m \u001b[31m84.1 MB/s\u001b[0m eta \u001b[36m0:00:00\u001b[0m\n",
            "\u001b[?25hRequirement already satisfied: pandas>=0.25.3 in /usr/local/lib/python3.10/dist-packages (from tabula-py) (1.5.3)\n",
            "Requirement already satisfied: numpy in /usr/local/lib/python3.10/dist-packages (from tabula-py) (1.23.5)\n",
            "Requirement already satisfied: distro in /usr/lib/python3/dist-packages (from tabula-py) (1.7.0)\n",
            "Collecting jpype1 (from tabula-py)\n",
            "  Downloading JPype1-1.4.1-cp310-cp310-manylinux_2_12_x86_64.manylinux2010_x86_64.whl (465 kB)\n",
            "\u001b[2K     \u001b[90m━━━━━━━━━━━━━━━━━━━━━━━━━━━━━━━━━━━━━━━━\u001b[0m \u001b[32m465.3/465.3 kB\u001b[0m \u001b[31m24.6 MB/s\u001b[0m eta \u001b[36m0:00:00\u001b[0m\n",
            "\u001b[?25hRequirement already satisfied: python-dateutil>=2.8.1 in /usr/local/lib/python3.10/dist-packages (from pandas>=0.25.3->tabula-py) (2.8.2)\n",
            "Requirement already satisfied: pytz>=2020.1 in /usr/local/lib/python3.10/dist-packages (from pandas>=0.25.3->tabula-py) (2023.3.post1)\n",
            "Requirement already satisfied: packaging in /usr/local/lib/python3.10/dist-packages (from jpype1->tabula-py) (23.2)\n",
            "Requirement already satisfied: six>=1.5 in /usr/local/lib/python3.10/dist-packages (from python-dateutil>=2.8.1->pandas>=0.25.3->tabula-py) (1.16.0)\n",
            "Installing collected packages: jpype1, tabula-py\n",
            "Successfully installed jpype1-1.4.1 tabula-py-2.8.2\n"
          ]
        }
      ]
    },
    {
      "cell_type": "code",
      "source": [
        "pip install matplotlib"
      ],
      "metadata": {
        "colab": {
          "base_uri": "https://localhost:8080/"
        },
        "id": "f1IK2sh2vlkO",
        "outputId": "56bf2d86-e21e-473a-cb52-b2fd5bc65fd1"
      },
      "execution_count": null,
      "outputs": [
        {
          "output_type": "stream",
          "name": "stdout",
          "text": [
            "Requirement already satisfied: matplotlib in /usr/local/lib/python3.10/dist-packages (3.7.1)\n",
            "Requirement already satisfied: contourpy>=1.0.1 in /usr/local/lib/python3.10/dist-packages (from matplotlib) (1.1.1)\n",
            "Requirement already satisfied: cycler>=0.10 in /usr/local/lib/python3.10/dist-packages (from matplotlib) (0.12.1)\n",
            "Requirement already satisfied: fonttools>=4.22.0 in /usr/local/lib/python3.10/dist-packages (from matplotlib) (4.43.1)\n",
            "Requirement already satisfied: kiwisolver>=1.0.1 in /usr/local/lib/python3.10/dist-packages (from matplotlib) (1.4.5)\n",
            "Requirement already satisfied: numpy>=1.20 in /usr/local/lib/python3.10/dist-packages (from matplotlib) (1.23.5)\n",
            "Requirement already satisfied: packaging>=20.0 in /usr/local/lib/python3.10/dist-packages (from matplotlib) (23.2)\n",
            "Requirement already satisfied: pillow>=6.2.0 in /usr/local/lib/python3.10/dist-packages (from matplotlib) (9.4.0)\n",
            "Requirement already satisfied: pyparsing>=2.3.1 in /usr/local/lib/python3.10/dist-packages (from matplotlib) (3.1.1)\n",
            "Requirement already satisfied: python-dateutil>=2.7 in /usr/local/lib/python3.10/dist-packages (from matplotlib) (2.8.2)\n",
            "Requirement already satisfied: six>=1.5 in /usr/local/lib/python3.10/dist-packages (from python-dateutil>=2.7->matplotlib) (1.16.0)\n"
          ]
        }
      ]
    },
    {
      "cell_type": "markdown",
      "source": [
        "#  Import Statement"
      ],
      "metadata": {
        "id": "AUYyW9LGyy-V"
      }
    },
    {
      "cell_type": "markdown",
      "source": [
        "The import statement in Python is used to bring external modules or libraries into Python code. These modules or libraries contain functions, classes, or variables that can be used in the program. Importing these external resources allows to extend Python's capabilities and reuse code that others have written."
      ],
      "metadata": {
        "id": "c__f1Bk01BVm"
      }
    },
    {
      "cell_type": "code",
      "source": [
        "import pandas as pd\n",
        "import tabula\n",
        "import matplotlib.pyplot as plt"
      ],
      "metadata": {
        "id": "plrIZGwmzBIJ"
      },
      "execution_count": null,
      "outputs": []
    },
    {
      "cell_type": "markdown",
      "source": [
        "This code imports several Python libraries. Here, \"import pandas as pd\"\n",
        "imports the panda's library and assigns it the alias pd. The second line imports the tabula library for extracting tables from PDF files into pandas DataFrames. The \"import matplotlib.pyplot as plt\" code imports the matplotlib.pyplot module and assigns it the alias plt. Matplotlib is a popular library for creating visualizations and plots in Python. The pyplot module is commonly used for creating various types of plots. Finally, the \"import numpy as np\" line imports the numpy library and assigns it the alias np. NumPy is a fundamental library for numerical and mathematical operations in Python. It provides support for arrays and matrices, making it a crucial library for scientific and data analysis tasks.\n",
        "\n",
        "This library is sare crucial for the future stages of this programming. We will be analyzing and visualizing various pdf and Excel data set to fulfill our objective.\n",
        "\n"
      ],
      "metadata": {
        "id": "TbjM7-rOzCNd"
      }
    },
    {
      "cell_type": "markdown",
      "source": [
        "# Data Uploading and Extraction"
      ],
      "metadata": {
        "id": "BKz5503Qrx6I"
      }
    },
    {
      "cell_type": "code",
      "source": [
        "from google.colab import files\n",
        "\n",
        "# Selected the required file (Pdf) to upload in google colab\n",
        "uploaded = files.upload()\n",
        "\n",
        "# The file name and size of uploaded file\n",
        "# Reqired to match it with the original file for correction\n",
        "for filename in uploaded.keys():\n",
        "    print(f'Uploaded file: \"{filename}\" with length {len(uploaded[filename])} bytes')"
      ],
      "metadata": {
        "colab": {
          "base_uri": "https://localhost:8080/",
          "height": 90
        },
        "id": "QKcfnV8GKwYt",
        "outputId": "b10c6c34-a897-4c37-8d7b-6dae5398b52d"
      },
      "execution_count": null,
      "outputs": [
        {
          "output_type": "display_data",
          "data": {
            "text/plain": [
              "<IPython.core.display.HTML object>"
            ],
            "text/html": [
              "\n",
              "     <input type=\"file\" id=\"files-255030e9-905e-4346-af9c-15c70b334ce0\" name=\"files[]\" multiple disabled\n",
              "        style=\"border:none\" />\n",
              "     <output id=\"result-255030e9-905e-4346-af9c-15c70b334ce0\">\n",
              "      Upload widget is only available when the cell has been executed in the\n",
              "      current browser session. Please rerun this cell to enable.\n",
              "      </output>\n",
              "      <script>// Copyright 2017 Google LLC\n",
              "//\n",
              "// Licensed under the Apache License, Version 2.0 (the \"License\");\n",
              "// you may not use this file except in compliance with the License.\n",
              "// You may obtain a copy of the License at\n",
              "//\n",
              "//      http://www.apache.org/licenses/LICENSE-2.0\n",
              "//\n",
              "// Unless required by applicable law or agreed to in writing, software\n",
              "// distributed under the License is distributed on an \"AS IS\" BASIS,\n",
              "// WITHOUT WARRANTIES OR CONDITIONS OF ANY KIND, either express or implied.\n",
              "// See the License for the specific language governing permissions and\n",
              "// limitations under the License.\n",
              "\n",
              "/**\n",
              " * @fileoverview Helpers for google.colab Python module.\n",
              " */\n",
              "(function(scope) {\n",
              "function span(text, styleAttributes = {}) {\n",
              "  const element = document.createElement('span');\n",
              "  element.textContent = text;\n",
              "  for (const key of Object.keys(styleAttributes)) {\n",
              "    element.style[key] = styleAttributes[key];\n",
              "  }\n",
              "  return element;\n",
              "}\n",
              "\n",
              "// Max number of bytes which will be uploaded at a time.\n",
              "const MAX_PAYLOAD_SIZE = 100 * 1024;\n",
              "\n",
              "function _uploadFiles(inputId, outputId) {\n",
              "  const steps = uploadFilesStep(inputId, outputId);\n",
              "  const outputElement = document.getElementById(outputId);\n",
              "  // Cache steps on the outputElement to make it available for the next call\n",
              "  // to uploadFilesContinue from Python.\n",
              "  outputElement.steps = steps;\n",
              "\n",
              "  return _uploadFilesContinue(outputId);\n",
              "}\n",
              "\n",
              "// This is roughly an async generator (not supported in the browser yet),\n",
              "// where there are multiple asynchronous steps and the Python side is going\n",
              "// to poll for completion of each step.\n",
              "// This uses a Promise to block the python side on completion of each step,\n",
              "// then passes the result of the previous step as the input to the next step.\n",
              "function _uploadFilesContinue(outputId) {\n",
              "  const outputElement = document.getElementById(outputId);\n",
              "  const steps = outputElement.steps;\n",
              "\n",
              "  const next = steps.next(outputElement.lastPromiseValue);\n",
              "  return Promise.resolve(next.value.promise).then((value) => {\n",
              "    // Cache the last promise value to make it available to the next\n",
              "    // step of the generator.\n",
              "    outputElement.lastPromiseValue = value;\n",
              "    return next.value.response;\n",
              "  });\n",
              "}\n",
              "\n",
              "/**\n",
              " * Generator function which is called between each async step of the upload\n",
              " * process.\n",
              " * @param {string} inputId Element ID of the input file picker element.\n",
              " * @param {string} outputId Element ID of the output display.\n",
              " * @return {!Iterable<!Object>} Iterable of next steps.\n",
              " */\n",
              "function* uploadFilesStep(inputId, outputId) {\n",
              "  const inputElement = document.getElementById(inputId);\n",
              "  inputElement.disabled = false;\n",
              "\n",
              "  const outputElement = document.getElementById(outputId);\n",
              "  outputElement.innerHTML = '';\n",
              "\n",
              "  const pickedPromise = new Promise((resolve) => {\n",
              "    inputElement.addEventListener('change', (e) => {\n",
              "      resolve(e.target.files);\n",
              "    });\n",
              "  });\n",
              "\n",
              "  const cancel = document.createElement('button');\n",
              "  inputElement.parentElement.appendChild(cancel);\n",
              "  cancel.textContent = 'Cancel upload';\n",
              "  const cancelPromise = new Promise((resolve) => {\n",
              "    cancel.onclick = () => {\n",
              "      resolve(null);\n",
              "    };\n",
              "  });\n",
              "\n",
              "  // Wait for the user to pick the files.\n",
              "  const files = yield {\n",
              "    promise: Promise.race([pickedPromise, cancelPromise]),\n",
              "    response: {\n",
              "      action: 'starting',\n",
              "    }\n",
              "  };\n",
              "\n",
              "  cancel.remove();\n",
              "\n",
              "  // Disable the input element since further picks are not allowed.\n",
              "  inputElement.disabled = true;\n",
              "\n",
              "  if (!files) {\n",
              "    return {\n",
              "      response: {\n",
              "        action: 'complete',\n",
              "      }\n",
              "    };\n",
              "  }\n",
              "\n",
              "  for (const file of files) {\n",
              "    const li = document.createElement('li');\n",
              "    li.append(span(file.name, {fontWeight: 'bold'}));\n",
              "    li.append(span(\n",
              "        `(${file.type || 'n/a'}) - ${file.size} bytes, ` +\n",
              "        `last modified: ${\n",
              "            file.lastModifiedDate ? file.lastModifiedDate.toLocaleDateString() :\n",
              "                                    'n/a'} - `));\n",
              "    const percent = span('0% done');\n",
              "    li.appendChild(percent);\n",
              "\n",
              "    outputElement.appendChild(li);\n",
              "\n",
              "    const fileDataPromise = new Promise((resolve) => {\n",
              "      const reader = new FileReader();\n",
              "      reader.onload = (e) => {\n",
              "        resolve(e.target.result);\n",
              "      };\n",
              "      reader.readAsArrayBuffer(file);\n",
              "    });\n",
              "    // Wait for the data to be ready.\n",
              "    let fileData = yield {\n",
              "      promise: fileDataPromise,\n",
              "      response: {\n",
              "        action: 'continue',\n",
              "      }\n",
              "    };\n",
              "\n",
              "    // Use a chunked sending to avoid message size limits. See b/62115660.\n",
              "    let position = 0;\n",
              "    do {\n",
              "      const length = Math.min(fileData.byteLength - position, MAX_PAYLOAD_SIZE);\n",
              "      const chunk = new Uint8Array(fileData, position, length);\n",
              "      position += length;\n",
              "\n",
              "      const base64 = btoa(String.fromCharCode.apply(null, chunk));\n",
              "      yield {\n",
              "        response: {\n",
              "          action: 'append',\n",
              "          file: file.name,\n",
              "          data: base64,\n",
              "        },\n",
              "      };\n",
              "\n",
              "      let percentDone = fileData.byteLength === 0 ?\n",
              "          100 :\n",
              "          Math.round((position / fileData.byteLength) * 100);\n",
              "      percent.textContent = `${percentDone}% done`;\n",
              "\n",
              "    } while (position < fileData.byteLength);\n",
              "  }\n",
              "\n",
              "  // All done.\n",
              "  yield {\n",
              "    response: {\n",
              "      action: 'complete',\n",
              "    }\n",
              "  };\n",
              "}\n",
              "\n",
              "scope.google = scope.google || {};\n",
              "scope.google.colab = scope.google.colab || {};\n",
              "scope.google.colab._files = {\n",
              "  _uploadFiles,\n",
              "  _uploadFilesContinue,\n",
              "};\n",
              "})(self);\n",
              "</script> "
            ]
          },
          "metadata": {}
        },
        {
          "output_type": "stream",
          "name": "stdout",
          "text": [
            "Saving PDA_Loans_Database_Table.pdf to PDA_Loans_Database_Table.pdf\n",
            "Uploaded file: \"PDA_Loans_Database_Table.pdf\" with length 329790 bytes\n"
          ]
        }
      ]
    },
    {
      "cell_type": "markdown",
      "source": [
        "Uploading a PDF file to Google Colab is similar to uploading any other type of file. Here we have used the files.upload() function to upload the PDF file to the Colab environment. In addition, we have used another line of code to check our uploaded files and their length. This extra line of code will give us a visual length and name of the file which can be used to check if we have uploaded the right file."
      ],
      "metadata": {
        "id": "2OourLK0vsMH"
      }
    },
    {
      "cell_type": "code",
      "source": [
        "from google.colab import files\n",
        "\n",
        "# Selected the required file (Excel) to upload in google colab\n",
        "uploaded = files.upload()\n",
        "\n",
        "# The file name and size of uploaded file\n",
        "# Reqired to match it with the original file for correction\n",
        "for filename in uploaded.keys():\n",
        "    print(f'Uploaded file: \"{filename}\" with length {len(uploaded[filename])} bytes')\n",
        "\n",
        "# Loading the uploaded Excel data into a DataFrame (df)\n",
        "for filename in uploaded.keys():\n",
        "    if filename.endswith(\".csv\"):\n",
        "        df = pd.read_csv(filename)\n",
        "        print(f'Loaded {len(df)} rows from {filename} into a DataFrame.')\n",
        "    elif filename.endswith(\".xls\") or filename.endswith(\".xlsx\"):\n",
        "        df = pd.read_excel(filename)\n",
        "        print(f'Loaded {len(df)} rows from {filename} into a DataFrame.')"
      ],
      "metadata": {
        "colab": {
          "base_uri": "https://localhost:8080/",
          "height": 108
        },
        "id": "S1IdkqU8Lvwt",
        "outputId": "690e87e8-e066-4c17-a98a-5d40a7ea092e"
      },
      "execution_count": null,
      "outputs": [
        {
          "output_type": "display_data",
          "data": {
            "text/plain": [
              "<IPython.core.display.HTML object>"
            ],
            "text/html": [
              "\n",
              "     <input type=\"file\" id=\"files-c76980ef-a226-40c8-a64d-18ad8699daae\" name=\"files[]\" multiple disabled\n",
              "        style=\"border:none\" />\n",
              "     <output id=\"result-c76980ef-a226-40c8-a64d-18ad8699daae\">\n",
              "      Upload widget is only available when the cell has been executed in the\n",
              "      current browser session. Please rerun this cell to enable.\n",
              "      </output>\n",
              "      <script>// Copyright 2017 Google LLC\n",
              "//\n",
              "// Licensed under the Apache License, Version 2.0 (the \"License\");\n",
              "// you may not use this file except in compliance with the License.\n",
              "// You may obtain a copy of the License at\n",
              "//\n",
              "//      http://www.apache.org/licenses/LICENSE-2.0\n",
              "//\n",
              "// Unless required by applicable law or agreed to in writing, software\n",
              "// distributed under the License is distributed on an \"AS IS\" BASIS,\n",
              "// WITHOUT WARRANTIES OR CONDITIONS OF ANY KIND, either express or implied.\n",
              "// See the License for the specific language governing permissions and\n",
              "// limitations under the License.\n",
              "\n",
              "/**\n",
              " * @fileoverview Helpers for google.colab Python module.\n",
              " */\n",
              "(function(scope) {\n",
              "function span(text, styleAttributes = {}) {\n",
              "  const element = document.createElement('span');\n",
              "  element.textContent = text;\n",
              "  for (const key of Object.keys(styleAttributes)) {\n",
              "    element.style[key] = styleAttributes[key];\n",
              "  }\n",
              "  return element;\n",
              "}\n",
              "\n",
              "// Max number of bytes which will be uploaded at a time.\n",
              "const MAX_PAYLOAD_SIZE = 100 * 1024;\n",
              "\n",
              "function _uploadFiles(inputId, outputId) {\n",
              "  const steps = uploadFilesStep(inputId, outputId);\n",
              "  const outputElement = document.getElementById(outputId);\n",
              "  // Cache steps on the outputElement to make it available for the next call\n",
              "  // to uploadFilesContinue from Python.\n",
              "  outputElement.steps = steps;\n",
              "\n",
              "  return _uploadFilesContinue(outputId);\n",
              "}\n",
              "\n",
              "// This is roughly an async generator (not supported in the browser yet),\n",
              "// where there are multiple asynchronous steps and the Python side is going\n",
              "// to poll for completion of each step.\n",
              "// This uses a Promise to block the python side on completion of each step,\n",
              "// then passes the result of the previous step as the input to the next step.\n",
              "function _uploadFilesContinue(outputId) {\n",
              "  const outputElement = document.getElementById(outputId);\n",
              "  const steps = outputElement.steps;\n",
              "\n",
              "  const next = steps.next(outputElement.lastPromiseValue);\n",
              "  return Promise.resolve(next.value.promise).then((value) => {\n",
              "    // Cache the last promise value to make it available to the next\n",
              "    // step of the generator.\n",
              "    outputElement.lastPromiseValue = value;\n",
              "    return next.value.response;\n",
              "  });\n",
              "}\n",
              "\n",
              "/**\n",
              " * Generator function which is called between each async step of the upload\n",
              " * process.\n",
              " * @param {string} inputId Element ID of the input file picker element.\n",
              " * @param {string} outputId Element ID of the output display.\n",
              " * @return {!Iterable<!Object>} Iterable of next steps.\n",
              " */\n",
              "function* uploadFilesStep(inputId, outputId) {\n",
              "  const inputElement = document.getElementById(inputId);\n",
              "  inputElement.disabled = false;\n",
              "\n",
              "  const outputElement = document.getElementById(outputId);\n",
              "  outputElement.innerHTML = '';\n",
              "\n",
              "  const pickedPromise = new Promise((resolve) => {\n",
              "    inputElement.addEventListener('change', (e) => {\n",
              "      resolve(e.target.files);\n",
              "    });\n",
              "  });\n",
              "\n",
              "  const cancel = document.createElement('button');\n",
              "  inputElement.parentElement.appendChild(cancel);\n",
              "  cancel.textContent = 'Cancel upload';\n",
              "  const cancelPromise = new Promise((resolve) => {\n",
              "    cancel.onclick = () => {\n",
              "      resolve(null);\n",
              "    };\n",
              "  });\n",
              "\n",
              "  // Wait for the user to pick the files.\n",
              "  const files = yield {\n",
              "    promise: Promise.race([pickedPromise, cancelPromise]),\n",
              "    response: {\n",
              "      action: 'starting',\n",
              "    }\n",
              "  };\n",
              "\n",
              "  cancel.remove();\n",
              "\n",
              "  // Disable the input element since further picks are not allowed.\n",
              "  inputElement.disabled = true;\n",
              "\n",
              "  if (!files) {\n",
              "    return {\n",
              "      response: {\n",
              "        action: 'complete',\n",
              "      }\n",
              "    };\n",
              "  }\n",
              "\n",
              "  for (const file of files) {\n",
              "    const li = document.createElement('li');\n",
              "    li.append(span(file.name, {fontWeight: 'bold'}));\n",
              "    li.append(span(\n",
              "        `(${file.type || 'n/a'}) - ${file.size} bytes, ` +\n",
              "        `last modified: ${\n",
              "            file.lastModifiedDate ? file.lastModifiedDate.toLocaleDateString() :\n",
              "                                    'n/a'} - `));\n",
              "    const percent = span('0% done');\n",
              "    li.appendChild(percent);\n",
              "\n",
              "    outputElement.appendChild(li);\n",
              "\n",
              "    const fileDataPromise = new Promise((resolve) => {\n",
              "      const reader = new FileReader();\n",
              "      reader.onload = (e) => {\n",
              "        resolve(e.target.result);\n",
              "      };\n",
              "      reader.readAsArrayBuffer(file);\n",
              "    });\n",
              "    // Wait for the data to be ready.\n",
              "    let fileData = yield {\n",
              "      promise: fileDataPromise,\n",
              "      response: {\n",
              "        action: 'continue',\n",
              "      }\n",
              "    };\n",
              "\n",
              "    // Use a chunked sending to avoid message size limits. See b/62115660.\n",
              "    let position = 0;\n",
              "    do {\n",
              "      const length = Math.min(fileData.byteLength - position, MAX_PAYLOAD_SIZE);\n",
              "      const chunk = new Uint8Array(fileData, position, length);\n",
              "      position += length;\n",
              "\n",
              "      const base64 = btoa(String.fromCharCode.apply(null, chunk));\n",
              "      yield {\n",
              "        response: {\n",
              "          action: 'append',\n",
              "          file: file.name,\n",
              "          data: base64,\n",
              "        },\n",
              "      };\n",
              "\n",
              "      let percentDone = fileData.byteLength === 0 ?\n",
              "          100 :\n",
              "          Math.round((position / fileData.byteLength) * 100);\n",
              "      percent.textContent = `${percentDone}% done`;\n",
              "\n",
              "    } while (position < fileData.byteLength);\n",
              "  }\n",
              "\n",
              "  // All done.\n",
              "  yield {\n",
              "    response: {\n",
              "      action: 'complete',\n",
              "    }\n",
              "  };\n",
              "}\n",
              "\n",
              "scope.google = scope.google || {};\n",
              "scope.google.colab = scope.google.colab || {};\n",
              "scope.google.colab._files = {\n",
              "  _uploadFiles,\n",
              "  _uploadFilesContinue,\n",
              "};\n",
              "})(self);\n",
              "</script> "
            ]
          },
          "metadata": {}
        },
        {
          "output_type": "stream",
          "name": "stdout",
          "text": [
            "Saving PDA_Zappy_Loan_Data_Excel.xlsx to PDA_Zappy_Loan_Data_Excel.xlsx\n",
            "Uploaded file: \"PDA_Zappy_Loan_Data_Excel.xlsx\" with length 36543 bytes\n",
            "Loaded 247 rows from PDA_Zappy_Loan_Data_Excel.xlsx into a DataFrame.\n"
          ]
        }
      ]
    },
    {
      "cell_type": "markdown",
      "source": [
        "To upload our \"Loan Data set\" we have again used the \"uploaded = files. upload()\" and also used code to check the file. In addition, to load the uploaded Excel data into a Dataframe we have used a different code. The code will check the uploaded file's extension to determine the file format. If the file has a .csv extension, it loads the data into a Pandas DataFrame using pd.read_csv(filename). If the file has a .xls or .xlsx extension, it loads the data into a Pandas DataFrame using pd.read_excel(filename)"
      ],
      "metadata": {
        "id": "1QpHKydPxWOq"
      }
    },
    {
      "cell_type": "markdown",
      "source": [
        "# Loading the Datasets into DataFrames"
      ],
      "metadata": {
        "id": "DBn_8pUGNKbg"
      }
    },
    {
      "cell_type": "code",
      "source": [
        "# Selected the Pdf file for data extraction\n",
        "pdf_file = \"PDA_Loans_Database_Table.pdf\"\n",
        "\n",
        "# An empty list named dfs is created to store the extracted DataFrames\n",
        "dfs = []\n",
        "\n",
        "# Iterate through each page and extract tables\n",
        "for page_num in range(1, len(tabula.read_pdf(pdf_file, pages=\"1\", silent=True)) + 1):\n",
        "    df = tabula.read_pdf(pdf_file, pages=page_num)[0]  # Use to extract the first table on each page\n",
        "    dfs.append(df)\n",
        "\n",
        "# Concatenate all DataFrames into a single DataFrame\n",
        "final_df = pd.concat(dfs, ignore_index=True)"
      ],
      "metadata": {
        "id": "G82DDOTfWE76"
      },
      "execution_count": null,
      "outputs": []
    },
    {
      "cell_type": "markdown",
      "source": [
        "In this code, the objective is to extract tabular data from a PDF file named \"PDA_Loans_Database_Table.pdf\" and convert it into a structured format for further analysis. The code extracts tabular data from \"PDA_Loans_Database_Table.pdf\" using the tabula library for PDF table extraction and stores it as DataFrames(dfs). It iterates through each page, extracting the first table from each page, and appends them to a list. Finally, it concatenates all DataFrames into a single DataFrame for further analysis using pandas. This is a useful automation for converting PDF data into a structured format for data analysis.\n",
        "\n"
      ],
      "metadata": {
        "id": "8ziQEJxu2eG3"
      }
    },
    {
      "cell_type": "code",
      "source": [
        "# Loading the Excel file into a DataFrame (df_excel)\n",
        "df_excel = pd.read_excel('PDA_Zappy_Loan_Data_Excel.xlsx')"
      ],
      "metadata": {
        "id": "35giNEOeNVSN"
      },
      "execution_count": null,
      "outputs": []
    },
    {
      "cell_type": "markdown",
      "source": [
        "# Exploring the DataFrames"
      ],
      "metadata": {
        "id": "jCxunNWra5UG"
      }
    },
    {
      "cell_type": "markdown",
      "source": [
        "Exploring DataFrames is an essential step in the data analysis process. DataFrames are commonly used in libraries like Pandas to represent structured data.\n",
        "\n",
        "These operations are essential for data exploration, data cleaning, and initial data understanding. They are typically the first steps in a data analysis pipeline and help to make informed decisions about how to handle and analyze data. These initial insights are crucial for tasks like data visualization, statistical analysis, and machine learning.\n",
        "\n",
        "The provided code conducts a brief data analysis of the 'final_df' data frame using Pandas. It includes operations to inspect the initial and final rows, gather information about the data, and obtain summary statistics. Additionally, it checks for missing values within the data frame. These steps provide an essential overview of the dataset and serve as a foundation for further analysis."
      ],
      "metadata": {
        "id": "vwn7ekdn7GM_"
      }
    },
    {
      "cell_type": "code",
      "source": [
        "final_df.head() # Display the first 5 rows\n",
        "final_df.tail() # Display the last 5 rows\n",
        "final_df.info() # Display a comprehensive summary of the DataFrame.\n",
        "final_df.shape  # Reveals the dimensions of the DataFrame in terms of rows and columns.\n",
        "final_df.columns\n",
        "final_df.describe() # Displays summary statistics for numerical columns.\n",
        "final_df.isnull() # The presence of missing data is examined.\n",
        "final_df.isnull().sum() # Counts of missing values in each column are calculated, aiding in the identification of data gaps."
      ],
      "metadata": {
        "colab": {
          "base_uri": "https://localhost:8080/"
        },
        "id": "OKQzBV-le8iX",
        "outputId": "3d556faf-cb92-4360-c25c-5009f083747e"
      },
      "execution_count": null,
      "outputs": [
        {
          "output_type": "stream",
          "name": "stdout",
          "text": [
            "<class 'pandas.core.frame.DataFrame'>\n",
            "RangeIndex: 28 entries, 0 to 27\n",
            "Data columns (total 13 columns):\n",
            " #   Column             Non-Null Count  Dtype \n",
            "---  ------             --------------  ----- \n",
            " 0   Loan_ID            28 non-null     int64 \n",
            " 1   Gender             28 non-null     int64 \n",
            " 2   Married            28 non-null     int64 \n",
            " 3   Dependents         28 non-null     int64 \n",
            " 4   Graduate           28 non-null     int64 \n",
            " 5   Self_Employed      28 non-null     int64 \n",
            " 6   ApplicantIncome    28 non-null     int64 \n",
            " 7   CoapplicantIncome  28 non-null     int64 \n",
            " 8   LoanAmount         28 non-null     int64 \n",
            " 9   Loan_Amount_Term   28 non-null     int64 \n",
            " 10  Credit_History     28 non-null     int64 \n",
            " 11  Property_Area      28 non-null     int64 \n",
            " 12  Loan_Status        28 non-null     object\n",
            "dtypes: int64(12), object(1)\n",
            "memory usage: 3.0+ KB\n"
          ]
        },
        {
          "output_type": "execute_result",
          "data": {
            "text/plain": [
              "Loan_ID              0\n",
              "Gender               0\n",
              "Married              0\n",
              "Dependents           0\n",
              "Graduate             0\n",
              "Self_Employed        0\n",
              "ApplicantIncome      0\n",
              "CoapplicantIncome    0\n",
              "LoanAmount           0\n",
              "Loan_Amount_Term     0\n",
              "Credit_History       0\n",
              "Property_Area        0\n",
              "Loan_Status          0\n",
              "dtype: int64"
            ]
          },
          "metadata": {},
          "execution_count": 9
        }
      ]
    },
    {
      "cell_type": "markdown",
      "source": [
        "The output describes the data frame \"final_df\", which contains the pdf file of the loan data set and has 28 rows and 13 columns. It includes details about the data types of each column, memory usage, and the count of missing values (NaN) in each column. Notably, it reports that all columns have zero missing values."
      ],
      "metadata": {
        "id": "P2neOl4c8_eZ"
      }
    },
    {
      "cell_type": "code",
      "source": [
        "# Display the first few rows of the DataFrame\n",
        "df_excel.head()\n",
        "\n",
        "# Dislplay basic information about the DataFrame\n",
        "df_excel.info()\n",
        "\n",
        "# Summary statistics of the DataFrame\n",
        "df_excel.describe()"
      ],
      "metadata": {
        "colab": {
          "base_uri": "https://localhost:8080/",
          "height": 647
        },
        "id": "iEB6dDPDMpzD",
        "outputId": "5f6277b3-678b-4868-cd41-260a2a7922e2"
      },
      "execution_count": null,
      "outputs": [
        {
          "output_type": "stream",
          "name": "stdout",
          "text": [
            "<class 'pandas.core.frame.DataFrame'>\n",
            "RangeIndex: 247 entries, 0 to 246\n",
            "Data columns (total 13 columns):\n",
            " #   Column             Non-Null Count  Dtype  \n",
            "---  ------             --------------  -----  \n",
            " 0   Loan_ID            247 non-null    int64  \n",
            " 1   Gender             247 non-null    int64  \n",
            " 2   Married            247 non-null    int64  \n",
            " 3   Dependents         247 non-null    int64  \n",
            " 4   Graduate           247 non-null    int64  \n",
            " 5   Self_Employed      247 non-null    int64  \n",
            " 6   ApplicantIncome    247 non-null    int64  \n",
            " 7   CoapplicantIncome  247 non-null    float64\n",
            " 8   LoanAmount         247 non-null    int64  \n",
            " 9   Loan_Amount_Term   247 non-null    int64  \n",
            " 10  Credit_History     247 non-null    int64  \n",
            " 11  Property_Area      247 non-null    int64  \n",
            " 12  Loan_Status        247 non-null    object \n",
            "dtypes: float64(1), int64(11), object(1)\n",
            "memory usage: 25.2+ KB\n"
          ]
        },
        {
          "output_type": "execute_result",
          "data": {
            "text/plain": [
              "           Loan_ID      Gender     Married  Dependents    Graduate  \\\n",
              "count   247.000000  247.000000  247.000000  247.000000  247.000000   \n",
              "mean   2544.161943    1.198381    0.643725    0.748988    0.744939   \n",
              "std     302.300553    0.399590    0.479870    0.988629    0.436780   \n",
              "min    1900.000000    1.000000    0.000000    0.000000    0.000000   \n",
              "25%    2369.500000    1.000000    0.000000    0.000000    0.000000   \n",
              "50%    2560.000000    1.000000    1.000000    0.000000    1.000000   \n",
              "75%    2784.500000    1.000000    1.000000    1.000000    1.000000   \n",
              "max    2990.000000    2.000000    1.000000    3.000000    1.000000   \n",
              "\n",
              "       Self_Employed  ApplicantIncome  CoapplicantIncome  LoanAmount  \\\n",
              "count     247.000000       247.000000         247.000000  247.000000   \n",
              "mean        0.141700      5403.688259        1776.918704  152.627530   \n",
              "std         0.349451      6485.890426        3993.412132   89.516037   \n",
              "min         0.000000       210.000000           0.000000    9.000000   \n",
              "25%         0.000000      2752.500000           0.000000  100.000000   \n",
              "50%         0.000000      3691.000000        1250.000000  130.000000   \n",
              "75%         0.000000      5822.000000        2241.000000  176.500000   \n",
              "max         1.000000     81000.000000       41667.000000  600.000000   \n",
              "\n",
              "       Loan_Amount_Term  Credit_History  Property_Area  \n",
              "count        247.000000      247.000000     247.000000  \n",
              "mean         320.040486        0.753036       2.064777  \n",
              "std           60.030399        0.432121       0.783373  \n",
              "min           12.000000        0.000000       1.000000  \n",
              "25%          333.000000        1.000000       1.000000  \n",
              "50%          333.000000        1.000000       2.000000  \n",
              "75%          333.000000        1.000000       3.000000  \n",
              "max          480.000000        1.000000       3.000000  "
            ],
            "text/html": [
              "\n",
              "  <div id=\"df-dd8aacdf-a84f-4fd8-b273-e541a62d4e26\" class=\"colab-df-container\">\n",
              "    <div>\n",
              "<style scoped>\n",
              "    .dataframe tbody tr th:only-of-type {\n",
              "        vertical-align: middle;\n",
              "    }\n",
              "\n",
              "    .dataframe tbody tr th {\n",
              "        vertical-align: top;\n",
              "    }\n",
              "\n",
              "    .dataframe thead th {\n",
              "        text-align: right;\n",
              "    }\n",
              "</style>\n",
              "<table border=\"1\" class=\"dataframe\">\n",
              "  <thead>\n",
              "    <tr style=\"text-align: right;\">\n",
              "      <th></th>\n",
              "      <th>Loan_ID</th>\n",
              "      <th>Gender</th>\n",
              "      <th>Married</th>\n",
              "      <th>Dependents</th>\n",
              "      <th>Graduate</th>\n",
              "      <th>Self_Employed</th>\n",
              "      <th>ApplicantIncome</th>\n",
              "      <th>CoapplicantIncome</th>\n",
              "      <th>LoanAmount</th>\n",
              "      <th>Loan_Amount_Term</th>\n",
              "      <th>Credit_History</th>\n",
              "      <th>Property_Area</th>\n",
              "    </tr>\n",
              "  </thead>\n",
              "  <tbody>\n",
              "    <tr>\n",
              "      <th>count</th>\n",
              "      <td>247.000000</td>\n",
              "      <td>247.000000</td>\n",
              "      <td>247.000000</td>\n",
              "      <td>247.000000</td>\n",
              "      <td>247.000000</td>\n",
              "      <td>247.000000</td>\n",
              "      <td>247.000000</td>\n",
              "      <td>247.000000</td>\n",
              "      <td>247.000000</td>\n",
              "      <td>247.000000</td>\n",
              "      <td>247.000000</td>\n",
              "      <td>247.000000</td>\n",
              "    </tr>\n",
              "    <tr>\n",
              "      <th>mean</th>\n",
              "      <td>2544.161943</td>\n",
              "      <td>1.198381</td>\n",
              "      <td>0.643725</td>\n",
              "      <td>0.748988</td>\n",
              "      <td>0.744939</td>\n",
              "      <td>0.141700</td>\n",
              "      <td>5403.688259</td>\n",
              "      <td>1776.918704</td>\n",
              "      <td>152.627530</td>\n",
              "      <td>320.040486</td>\n",
              "      <td>0.753036</td>\n",
              "      <td>2.064777</td>\n",
              "    </tr>\n",
              "    <tr>\n",
              "      <th>std</th>\n",
              "      <td>302.300553</td>\n",
              "      <td>0.399590</td>\n",
              "      <td>0.479870</td>\n",
              "      <td>0.988629</td>\n",
              "      <td>0.436780</td>\n",
              "      <td>0.349451</td>\n",
              "      <td>6485.890426</td>\n",
              "      <td>3993.412132</td>\n",
              "      <td>89.516037</td>\n",
              "      <td>60.030399</td>\n",
              "      <td>0.432121</td>\n",
              "      <td>0.783373</td>\n",
              "    </tr>\n",
              "    <tr>\n",
              "      <th>min</th>\n",
              "      <td>1900.000000</td>\n",
              "      <td>1.000000</td>\n",
              "      <td>0.000000</td>\n",
              "      <td>0.000000</td>\n",
              "      <td>0.000000</td>\n",
              "      <td>0.000000</td>\n",
              "      <td>210.000000</td>\n",
              "      <td>0.000000</td>\n",
              "      <td>9.000000</td>\n",
              "      <td>12.000000</td>\n",
              "      <td>0.000000</td>\n",
              "      <td>1.000000</td>\n",
              "    </tr>\n",
              "    <tr>\n",
              "      <th>25%</th>\n",
              "      <td>2369.500000</td>\n",
              "      <td>1.000000</td>\n",
              "      <td>0.000000</td>\n",
              "      <td>0.000000</td>\n",
              "      <td>0.000000</td>\n",
              "      <td>0.000000</td>\n",
              "      <td>2752.500000</td>\n",
              "      <td>0.000000</td>\n",
              "      <td>100.000000</td>\n",
              "      <td>333.000000</td>\n",
              "      <td>1.000000</td>\n",
              "      <td>1.000000</td>\n",
              "    </tr>\n",
              "    <tr>\n",
              "      <th>50%</th>\n",
              "      <td>2560.000000</td>\n",
              "      <td>1.000000</td>\n",
              "      <td>1.000000</td>\n",
              "      <td>0.000000</td>\n",
              "      <td>1.000000</td>\n",
              "      <td>0.000000</td>\n",
              "      <td>3691.000000</td>\n",
              "      <td>1250.000000</td>\n",
              "      <td>130.000000</td>\n",
              "      <td>333.000000</td>\n",
              "      <td>1.000000</td>\n",
              "      <td>2.000000</td>\n",
              "    </tr>\n",
              "    <tr>\n",
              "      <th>75%</th>\n",
              "      <td>2784.500000</td>\n",
              "      <td>1.000000</td>\n",
              "      <td>1.000000</td>\n",
              "      <td>1.000000</td>\n",
              "      <td>1.000000</td>\n",
              "      <td>0.000000</td>\n",
              "      <td>5822.000000</td>\n",
              "      <td>2241.000000</td>\n",
              "      <td>176.500000</td>\n",
              "      <td>333.000000</td>\n",
              "      <td>1.000000</td>\n",
              "      <td>3.000000</td>\n",
              "    </tr>\n",
              "    <tr>\n",
              "      <th>max</th>\n",
              "      <td>2990.000000</td>\n",
              "      <td>2.000000</td>\n",
              "      <td>1.000000</td>\n",
              "      <td>3.000000</td>\n",
              "      <td>1.000000</td>\n",
              "      <td>1.000000</td>\n",
              "      <td>81000.000000</td>\n",
              "      <td>41667.000000</td>\n",
              "      <td>600.000000</td>\n",
              "      <td>480.000000</td>\n",
              "      <td>1.000000</td>\n",
              "      <td>3.000000</td>\n",
              "    </tr>\n",
              "  </tbody>\n",
              "</table>\n",
              "</div>\n",
              "    <div class=\"colab-df-buttons\">\n",
              "\n",
              "  <div class=\"colab-df-container\">\n",
              "    <button class=\"colab-df-convert\" onclick=\"convertToInteractive('df-dd8aacdf-a84f-4fd8-b273-e541a62d4e26')\"\n",
              "            title=\"Convert this dataframe to an interactive table.\"\n",
              "            style=\"display:none;\">\n",
              "\n",
              "  <svg xmlns=\"http://www.w3.org/2000/svg\" height=\"24px\" viewBox=\"0 -960 960 960\">\n",
              "    <path d=\"M120-120v-720h720v720H120Zm60-500h600v-160H180v160Zm220 220h160v-160H400v160Zm0 220h160v-160H400v160ZM180-400h160v-160H180v160Zm440 0h160v-160H620v160ZM180-180h160v-160H180v160Zm440 0h160v-160H620v160Z\"/>\n",
              "  </svg>\n",
              "    </button>\n",
              "\n",
              "  <style>\n",
              "    .colab-df-container {\n",
              "      display:flex;\n",
              "      gap: 12px;\n",
              "    }\n",
              "\n",
              "    .colab-df-convert {\n",
              "      background-color: #E8F0FE;\n",
              "      border: none;\n",
              "      border-radius: 50%;\n",
              "      cursor: pointer;\n",
              "      display: none;\n",
              "      fill: #1967D2;\n",
              "      height: 32px;\n",
              "      padding: 0 0 0 0;\n",
              "      width: 32px;\n",
              "    }\n",
              "\n",
              "    .colab-df-convert:hover {\n",
              "      background-color: #E2EBFA;\n",
              "      box-shadow: 0px 1px 2px rgba(60, 64, 67, 0.3), 0px 1px 3px 1px rgba(60, 64, 67, 0.15);\n",
              "      fill: #174EA6;\n",
              "    }\n",
              "\n",
              "    .colab-df-buttons div {\n",
              "      margin-bottom: 4px;\n",
              "    }\n",
              "\n",
              "    [theme=dark] .colab-df-convert {\n",
              "      background-color: #3B4455;\n",
              "      fill: #D2E3FC;\n",
              "    }\n",
              "\n",
              "    [theme=dark] .colab-df-convert:hover {\n",
              "      background-color: #434B5C;\n",
              "      box-shadow: 0px 1px 3px 1px rgba(0, 0, 0, 0.15);\n",
              "      filter: drop-shadow(0px 1px 2px rgba(0, 0, 0, 0.3));\n",
              "      fill: #FFFFFF;\n",
              "    }\n",
              "  </style>\n",
              "\n",
              "    <script>\n",
              "      const buttonEl =\n",
              "        document.querySelector('#df-dd8aacdf-a84f-4fd8-b273-e541a62d4e26 button.colab-df-convert');\n",
              "      buttonEl.style.display =\n",
              "        google.colab.kernel.accessAllowed ? 'block' : 'none';\n",
              "\n",
              "      async function convertToInteractive(key) {\n",
              "        const element = document.querySelector('#df-dd8aacdf-a84f-4fd8-b273-e541a62d4e26');\n",
              "        const dataTable =\n",
              "          await google.colab.kernel.invokeFunction('convertToInteractive',\n",
              "                                                    [key], {});\n",
              "        if (!dataTable) return;\n",
              "\n",
              "        const docLinkHtml = 'Like what you see? Visit the ' +\n",
              "          '<a target=\"_blank\" href=https://colab.research.google.com/notebooks/data_table.ipynb>data table notebook</a>'\n",
              "          + ' to learn more about interactive tables.';\n",
              "        element.innerHTML = '';\n",
              "        dataTable['output_type'] = 'display_data';\n",
              "        await google.colab.output.renderOutput(dataTable, element);\n",
              "        const docLink = document.createElement('div');\n",
              "        docLink.innerHTML = docLinkHtml;\n",
              "        element.appendChild(docLink);\n",
              "      }\n",
              "    </script>\n",
              "  </div>\n",
              "\n",
              "\n",
              "<div id=\"df-ba1655f6-0ad0-460f-a313-a289050e8d7b\">\n",
              "  <button class=\"colab-df-quickchart\" onclick=\"quickchart('df-ba1655f6-0ad0-460f-a313-a289050e8d7b')\"\n",
              "            title=\"Suggest charts.\"\n",
              "            style=\"display:none;\">\n",
              "\n",
              "<svg xmlns=\"http://www.w3.org/2000/svg\" height=\"24px\"viewBox=\"0 0 24 24\"\n",
              "     width=\"24px\">\n",
              "    <g>\n",
              "        <path d=\"M19 3H5c-1.1 0-2 .9-2 2v14c0 1.1.9 2 2 2h14c1.1 0 2-.9 2-2V5c0-1.1-.9-2-2-2zM9 17H7v-7h2v7zm4 0h-2V7h2v10zm4 0h-2v-4h2v4z\"/>\n",
              "    </g>\n",
              "</svg>\n",
              "  </button>\n",
              "\n",
              "<style>\n",
              "  .colab-df-quickchart {\n",
              "      --bg-color: #E8F0FE;\n",
              "      --fill-color: #1967D2;\n",
              "      --hover-bg-color: #E2EBFA;\n",
              "      --hover-fill-color: #174EA6;\n",
              "      --disabled-fill-color: #AAA;\n",
              "      --disabled-bg-color: #DDD;\n",
              "  }\n",
              "\n",
              "  [theme=dark] .colab-df-quickchart {\n",
              "      --bg-color: #3B4455;\n",
              "      --fill-color: #D2E3FC;\n",
              "      --hover-bg-color: #434B5C;\n",
              "      --hover-fill-color: #FFFFFF;\n",
              "      --disabled-bg-color: #3B4455;\n",
              "      --disabled-fill-color: #666;\n",
              "  }\n",
              "\n",
              "  .colab-df-quickchart {\n",
              "    background-color: var(--bg-color);\n",
              "    border: none;\n",
              "    border-radius: 50%;\n",
              "    cursor: pointer;\n",
              "    display: none;\n",
              "    fill: var(--fill-color);\n",
              "    height: 32px;\n",
              "    padding: 0;\n",
              "    width: 32px;\n",
              "  }\n",
              "\n",
              "  .colab-df-quickchart:hover {\n",
              "    background-color: var(--hover-bg-color);\n",
              "    box-shadow: 0 1px 2px rgba(60, 64, 67, 0.3), 0 1px 3px 1px rgba(60, 64, 67, 0.15);\n",
              "    fill: var(--button-hover-fill-color);\n",
              "  }\n",
              "\n",
              "  .colab-df-quickchart-complete:disabled,\n",
              "  .colab-df-quickchart-complete:disabled:hover {\n",
              "    background-color: var(--disabled-bg-color);\n",
              "    fill: var(--disabled-fill-color);\n",
              "    box-shadow: none;\n",
              "  }\n",
              "\n",
              "  .colab-df-spinner {\n",
              "    border: 2px solid var(--fill-color);\n",
              "    border-color: transparent;\n",
              "    border-bottom-color: var(--fill-color);\n",
              "    animation:\n",
              "      spin 1s steps(1) infinite;\n",
              "  }\n",
              "\n",
              "  @keyframes spin {\n",
              "    0% {\n",
              "      border-color: transparent;\n",
              "      border-bottom-color: var(--fill-color);\n",
              "      border-left-color: var(--fill-color);\n",
              "    }\n",
              "    20% {\n",
              "      border-color: transparent;\n",
              "      border-left-color: var(--fill-color);\n",
              "      border-top-color: var(--fill-color);\n",
              "    }\n",
              "    30% {\n",
              "      border-color: transparent;\n",
              "      border-left-color: var(--fill-color);\n",
              "      border-top-color: var(--fill-color);\n",
              "      border-right-color: var(--fill-color);\n",
              "    }\n",
              "    40% {\n",
              "      border-color: transparent;\n",
              "      border-right-color: var(--fill-color);\n",
              "      border-top-color: var(--fill-color);\n",
              "    }\n",
              "    60% {\n",
              "      border-color: transparent;\n",
              "      border-right-color: var(--fill-color);\n",
              "    }\n",
              "    80% {\n",
              "      border-color: transparent;\n",
              "      border-right-color: var(--fill-color);\n",
              "      border-bottom-color: var(--fill-color);\n",
              "    }\n",
              "    90% {\n",
              "      border-color: transparent;\n",
              "      border-bottom-color: var(--fill-color);\n",
              "    }\n",
              "  }\n",
              "</style>\n",
              "\n",
              "  <script>\n",
              "    async function quickchart(key) {\n",
              "      const quickchartButtonEl =\n",
              "        document.querySelector('#' + key + ' button');\n",
              "      quickchartButtonEl.disabled = true;  // To prevent multiple clicks.\n",
              "      quickchartButtonEl.classList.add('colab-df-spinner');\n",
              "      try {\n",
              "        const charts = await google.colab.kernel.invokeFunction(\n",
              "            'suggestCharts', [key], {});\n",
              "      } catch (error) {\n",
              "        console.error('Error during call to suggestCharts:', error);\n",
              "      }\n",
              "      quickchartButtonEl.classList.remove('colab-df-spinner');\n",
              "      quickchartButtonEl.classList.add('colab-df-quickchart-complete');\n",
              "    }\n",
              "    (() => {\n",
              "      let quickchartButtonEl =\n",
              "        document.querySelector('#df-ba1655f6-0ad0-460f-a313-a289050e8d7b button');\n",
              "      quickchartButtonEl.style.display =\n",
              "        google.colab.kernel.accessAllowed ? 'block' : 'none';\n",
              "    })();\n",
              "  </script>\n",
              "</div>\n",
              "    </div>\n",
              "  </div>\n"
            ]
          },
          "metadata": {},
          "execution_count": 10
        }
      ]
    },
    {
      "cell_type": "markdown",
      "source": [
        "The output describes the data frame \"final_df\", which contains the pdf file of the loan data set and has 28 rows and 13 columns. It includes details about the data types of each column, memory usage, and the count of missing values (NaN) in each column. Notably, it reports The output presents \"df_excel\" that holds 247 rows and 13 columns. Notably, all columns are devoid of missing values, ensuring data completeness. The majority of the columns are of integer data type, indicating that they store whole numbers. However, two exceptions include one column with floating-point numbers and another with object data, which typically suggests textual or mixed data types. Additionally, the summary statistics for numerical columns offer a quick glimpse into the data's distribution, conveying essential information about count, mean, standard deviation, and the range of values. These insights collectively serve as a foundational guide facilitating an initial understanding of the data's structure, completeness, and statistical characteristics, that all columns have zero missing values."
      ],
      "metadata": {
        "id": "pp2GNFnO_HVM"
      }
    },
    {
      "cell_type": "markdown",
      "source": [
        "# Label Mapping"
      ],
      "metadata": {
        "id": "_WoqLinbh1rL"
      }
    },
    {
      "cell_type": "markdown",
      "source": [
        "Label Mapping typically refers to the process of assigning labels or categories to numeric values or codes in a dataset. This is often used when dealing with categorical variables or features that have been encoded into numerical values."
      ],
      "metadata": {
        "id": "p2WkTub7_qPp"
      }
    },
    {
      "cell_type": "markdown",
      "source": [
        "The code below demonstrates the application of label mapping to enhance the interpretability of two DataFrames, final_df and df_excel. A dictionary called mapping is defined, where each key corresponds to a column name, and the associated value is a nested dictionary that maps numeric values to their respective labels.\n",
        "\n",
        "The code proceeds to iterate through the columns in both DataFrames and applies the label mapping using the map() function. This replaces the numeric values in the specified columns with their corresponding labels. The result is more human-readable and accessible data."
      ],
      "metadata": {
        "id": "SKnd2rUMAOWn"
      }
    },
    {
      "cell_type": "code",
      "source": [
        "# Dictionary for mapping numeric values to labels\n",
        "mapping = {\n",
        "    'Gender': {1: 'Male', 2: 'Female'},\n",
        "    'Married': {0: 'Single', 1: 'Married'},\n",
        "    'Dependents': {0: 'None', 1: 'One', 2: 'Two', 3: 'Three'},\n",
        "    'Graduate': {0: 'Not_Graduated', 1: 'Graduated'},\n",
        "    'Self_Employed': {0: 'Not_Self Employed', 1: 'Self_Employed'},\n",
        "    'Credit_History': {0: 'Not_Available', 1: 'Available'},\n",
        "    'Property_Area': {1: 'Urban', 2: 'Semiurban', 3: 'Rural'},\n",
        "}\n",
        "\n",
        "\n",
        "# Appling label mapping to the dataset\n",
        "for column, col_mapping in mapping.items():\n",
        "    final_df [column] = final_df [column].map(col_mapping)\n",
        "    df_excel [column] = df_excel[column].map(col_mapping)\n",
        "# Now, the numeric values in the DataFrame have been replaced with labels\n",
        "print( final_df)\n",
        "print( df_excel)"
      ],
      "metadata": {
        "id": "0JBSDUoSqXzG",
        "colab": {
          "base_uri": "https://localhost:8080/"
        },
        "outputId": "e8ed4f26-d1e7-49c1-a1cd-2ed64e3e3db2"
      },
      "execution_count": null,
      "outputs": [
        {
          "output_type": "stream",
          "name": "stdout",
          "text": [
            "    Loan_ID  Gender  Married Dependents       Graduate      Self_Employed  \\\n",
            "0      1002    Male   Single       None      Graduated  Not_Self Employed   \n",
            "1      1003    Male  Married        One      Graduated  Not_Self Employed   \n",
            "2      1005    Male  Married       None      Graduated      Self_Employed   \n",
            "3      1006    Male  Married       None  Not_Graduated  Not_Self Employed   \n",
            "4      1008    Male   Single       None      Graduated  Not_Self Employed   \n",
            "5      1011    Male  Married        Two      Graduated      Self_Employed   \n",
            "6      1013    Male  Married       None  Not_Graduated  Not_Self Employed   \n",
            "7      1014    Male  Married      Three      Graduated  Not_Self Employed   \n",
            "8      1018    Male  Married        Two      Graduated  Not_Self Employed   \n",
            "9      1020    Male  Married        One      Graduated  Not_Self Employed   \n",
            "10     1024    Male  Married        Two      Graduated  Not_Self Employed   \n",
            "11     1027    Male  Married        Two      Graduated  Not_Self Employed   \n",
            "12     1028    Male  Married        Two      Graduated  Not_Self Employed   \n",
            "13     1029    Male   Single       None      Graduated  Not_Self Employed   \n",
            "14     1030    Male  Married        Two      Graduated  Not_Self Employed   \n",
            "15     1032    Male   Single       None      Graduated  Not_Self Employed   \n",
            "16     1034    Male   Single        One  Not_Graduated  Not_Self Employed   \n",
            "17     1036  Female   Single       None      Graduated  Not_Self Employed   \n",
            "18     1038    Male  Married       None  Not_Graduated  Not_Self Employed   \n",
            "19     1041    Male  Married       None      Graduated  Not_Self Employed   \n",
            "20     1043    Male  Married       None  Not_Graduated  Not_Self Employed   \n",
            "21     1046    Male  Married        One      Graduated  Not_Self Employed   \n",
            "22     1047    Male  Married       None  Not_Graduated  Not_Self Employed   \n",
            "23     1050    Male  Married        Two  Not_Graduated  Not_Self Employed   \n",
            "24     1052    Male  Married        One      Graduated  Not_Self Employed   \n",
            "25     1066    Male  Married       None      Graduated      Self_Employed   \n",
            "26     1068    Male  Married       None      Graduated  Not_Self Employed   \n",
            "27     1073    Male  Married        Two  Not_Graduated  Not_Self Employed   \n",
            "\n",
            "    ApplicantIncome  CoapplicantIncome  LoanAmount  Loan_Amount_Term  \\\n",
            "0              5849                  0         128               360   \n",
            "1              4583               1508         128               360   \n",
            "2              3000                  0          66               360   \n",
            "3              2583               2358         120               360   \n",
            "4              6000                  0         141               360   \n",
            "5              5417               4196         267               360   \n",
            "6              2333               1516          95               360   \n",
            "7              3036               2504         158               360   \n",
            "8              4006               1526         168               360   \n",
            "9             12841              10968         349               360   \n",
            "10             3200                700          70               360   \n",
            "11             2500               1840         109               360   \n",
            "12             3073               8106         200               360   \n",
            "13             1853               2840         114               360   \n",
            "14             1299               1086          17               120   \n",
            "15             4950                  0         125               360   \n",
            "16             3596                  0         100               240   \n",
            "17             3510                  0          76               360   \n",
            "18             4887                  0         133               360   \n",
            "19             2600               3500         115               360   \n",
            "20             7660                  0         104               360   \n",
            "21             5955               5625         315               360   \n",
            "22             2600               1911         116               360   \n",
            "23             3365               1917         112               360   \n",
            "24             3717               2925         151               360   \n",
            "25             9560                  0         191               360   \n",
            "26             2799               2253         122               360   \n",
            "27             4226               1040         110               360   \n",
            "\n",
            "   Credit_History Property_Area Loan_Status  \n",
            "0       Available         Urban           Y  \n",
            "1       Available         Rural           N  \n",
            "2       Available         Urban           Y  \n",
            "3       Available         Urban           Y  \n",
            "4       Available         Urban           Y  \n",
            "5       Available         Urban           Y  \n",
            "6       Available         Urban           Y  \n",
            "7   Not_Available     Semiurban           N  \n",
            "8       Available         Urban           Y  \n",
            "9       Available     Semiurban           N  \n",
            "10      Available         Urban           Y  \n",
            "11      Available         Urban           Y  \n",
            "12      Available         Urban           Y  \n",
            "13      Available         Rural           N  \n",
            "14      Available         Urban           Y  \n",
            "15      Available         Urban           Y  \n",
            "16  Not_Available         Urban           Y  \n",
            "17  Not_Available         Urban           N  \n",
            "18      Available         Rural           N  \n",
            "19      Available         Urban           Y  \n",
            "20  Not_Available         Urban           N  \n",
            "21      Available         Urban           Y  \n",
            "22  Not_Available     Semiurban           N  \n",
            "23  Not_Available         Rural           N  \n",
            "24  Not_Available     Semiurban           N  \n",
            "25      Available     Semiurban           Y  \n",
            "26      Available     Semiurban           Y  \n",
            "27      Available         Urban           Y  \n",
            "     Loan_ID  Gender  Married Dependents       Graduate      Self_Employed  \\\n",
            "0       2284    Male   Single       None  Not_Graduated  Not_Self Employed   \n",
            "1       2287  Female   Single       None      Graduated  Not_Self Employed   \n",
            "2       2288    Male  Married        Two  Not_Graduated  Not_Self Employed   \n",
            "3       2296    Male   Single       None  Not_Graduated  Not_Self Employed   \n",
            "4       2297    Male   Single       None      Graduated  Not_Self Employed   \n",
            "..       ...     ...      ...        ...            ...                ...   \n",
            "242     2978  Female   Single       None      Graduated  Not_Self Employed   \n",
            "243     2979    Male  Married      Three      Graduated  Not_Self Employed   \n",
            "244     2983    Male  Married        One      Graduated  Not_Self Employed   \n",
            "245     2984    Male  Married        Two      Graduated  Not_Self Employed   \n",
            "246     2990  Female   Single       None      Graduated      Self_Employed   \n",
            "\n",
            "     ApplicantIncome  CoapplicantIncome  LoanAmount  Loan_Amount_Term  \\\n",
            "0               3902             1666.0         109               333   \n",
            "1               1500             1800.0         103               333   \n",
            "2               2889                0.0          45               180   \n",
            "3               2755                0.0          65               300   \n",
            "4               2500            20000.0         103               333   \n",
            "..               ...                ...         ...               ...   \n",
            "242             2900                0.0          71               333   \n",
            "243             4106                0.0          40               180   \n",
            "244             8072              240.0         253               333   \n",
            "245             7583                0.0         187               333   \n",
            "246             4583                0.0         133               333   \n",
            "\n",
            "    Credit_History Property_Area Loan_Status  \n",
            "0        Available         Rural           Y  \n",
            "1    Not_Available     Semiurban           N  \n",
            "2    Not_Available         Urban           N  \n",
            "3        Available         Rural           N  \n",
            "4        Available     Semiurban           Y  \n",
            "..             ...           ...         ...  \n",
            "242      Available         Rural           Y  \n",
            "243      Available         Rural           Y  \n",
            "244      Available         Urban           Y  \n",
            "245      Available         Urban           Y  \n",
            "246  Not_Available     Semiurban           N  \n",
            "\n",
            "[247 rows x 13 columns]\n"
          ]
        }
      ]
    },
    {
      "cell_type": "markdown",
      "source": [
        "The provided data showcases two DataFrames (final_df & final_df) with 13 columns each, representing information related to loans. These DataFrames have undergone label mapping, replacing numeric values with descriptive labels for enhanced clarity and interpretability. The columns cover aspects such as gender, marital status, education, income details, credit history, and property location. This transformation from numerical codes to labels makes the data more accessible for analysis and decision-making. Each row in the DataFrames corresponds to an individual loan application, with the 'Loan_Status' column indicating whether the loan was approved (Y) or not (N). The data is now more human-readable, facilitating easier comprehension and analysis."
      ],
      "metadata": {
        "id": "J4DqhCENAMll"
      }
    },
    {
      "cell_type": "markdown",
      "source": [
        "# Data Integration"
      ],
      "metadata": {
        "id": "Amj0eDrHfYVV"
      }
    },
    {
      "cell_type": "markdown",
      "source": [
        "Data integration is the process of combining data from different sources into a unified view or dataset. This process involves bringing together data from various systems, databases, files, and formats to create a cohesive and comprehensive dataset that can be used for analysis, reporting, and decision-making."
      ],
      "metadata": {
        "id": "b5imBvC_DHhl"
      }
    },
    {
      "cell_type": "code",
      "source": [
        "# Combines the rows of df_excel and final_df into a single DataFrame\n",
        "combined_df = pd.concat([df_excel, final_df], ignore_index=True)"
      ],
      "metadata": {
        "id": "eiZ2YBI8ZQSq"
      },
      "execution_count": null,
      "outputs": []
    },
    {
      "cell_type": "markdown",
      "source": [
        "\n",
        "The code uses the pd.concat() function from the Pandas library to concatenate two DataFrames, df_excel and final_df, into a single DataFrame called combined_df."
      ],
      "metadata": {
        "id": "s5e3xuULDhEi"
      }
    },
    {
      "cell_type": "markdown",
      "source": [
        "# Data Cleaning"
      ],
      "metadata": {
        "id": "XrbXcVPeqZZW"
      }
    },
    {
      "cell_type": "code",
      "source": [
        "# Display the first few rows of the DataFrame\n",
        "combined_df.head()\n",
        "\n",
        "# Get basic information about the DataFrame\n",
        "combined_df.info()\n",
        "\n",
        "# Summary statistics of the DataFrame\n",
        "combined_df.describe()"
      ],
      "metadata": {
        "colab": {
          "base_uri": "https://localhost:8080/",
          "height": 647
        },
        "id": "mD0L0beyaa6P",
        "outputId": "7f04e5d9-f11c-46cc-b413-7fdb82300cfc"
      },
      "execution_count": null,
      "outputs": [
        {
          "output_type": "stream",
          "name": "stdout",
          "text": [
            "<class 'pandas.core.frame.DataFrame'>\n",
            "RangeIndex: 275 entries, 0 to 274\n",
            "Data columns (total 13 columns):\n",
            " #   Column             Non-Null Count  Dtype  \n",
            "---  ------             --------------  -----  \n",
            " 0   Loan_ID            275 non-null    int64  \n",
            " 1   Gender             275 non-null    object \n",
            " 2   Married            275 non-null    object \n",
            " 3   Dependents         275 non-null    object \n",
            " 4   Graduate           275 non-null    object \n",
            " 5   Self_Employed      275 non-null    object \n",
            " 6   ApplicantIncome    275 non-null    int64  \n",
            " 7   CoapplicantIncome  275 non-null    float64\n",
            " 8   LoanAmount         275 non-null    int64  \n",
            " 9   Loan_Amount_Term   275 non-null    int64  \n",
            " 10  Credit_History     275 non-null    object \n",
            " 11  Property_Area      275 non-null    object \n",
            " 12  Loan_Status        275 non-null    object \n",
            "dtypes: float64(1), int64(4), object(8)\n",
            "memory usage: 28.1+ KB\n"
          ]
        },
        {
          "output_type": "execute_result",
          "data": {
            "text/plain": [
              "           Loan_ID  ApplicantIncome  CoapplicantIncome  LoanAmount  \\\n",
              "count   275.000000       275.000000         275.000000  275.000000   \n",
              "mean   2390.080000      5293.487273        1808.065164  151.269091   \n",
              "std     540.631512      6202.606163        3870.779628   87.834576   \n",
              "min    1002.000000       210.000000           0.000000    9.000000   \n",
              "25%    2314.500000      2752.500000           0.000000  100.000000   \n",
              "50%    2529.000000      3676.000000        1287.000000  128.000000   \n",
              "75%    2762.000000      5807.500000        2319.500000  173.000000   \n",
              "max    2990.000000     81000.000000       41667.000000  600.000000   \n",
              "\n",
              "       Loan_Amount_Term  \n",
              "count        275.000000  \n",
              "mean         322.800000  \n",
              "std           59.570911  \n",
              "min           12.000000  \n",
              "25%          333.000000  \n",
              "50%          333.000000  \n",
              "75%          333.000000  \n",
              "max          480.000000  "
            ],
            "text/html": [
              "\n",
              "  <div id=\"df-f99560b4-0200-4e10-a8c4-65e44836fdbc\" class=\"colab-df-container\">\n",
              "    <div>\n",
              "<style scoped>\n",
              "    .dataframe tbody tr th:only-of-type {\n",
              "        vertical-align: middle;\n",
              "    }\n",
              "\n",
              "    .dataframe tbody tr th {\n",
              "        vertical-align: top;\n",
              "    }\n",
              "\n",
              "    .dataframe thead th {\n",
              "        text-align: right;\n",
              "    }\n",
              "</style>\n",
              "<table border=\"1\" class=\"dataframe\">\n",
              "  <thead>\n",
              "    <tr style=\"text-align: right;\">\n",
              "      <th></th>\n",
              "      <th>Loan_ID</th>\n",
              "      <th>ApplicantIncome</th>\n",
              "      <th>CoapplicantIncome</th>\n",
              "      <th>LoanAmount</th>\n",
              "      <th>Loan_Amount_Term</th>\n",
              "    </tr>\n",
              "  </thead>\n",
              "  <tbody>\n",
              "    <tr>\n",
              "      <th>count</th>\n",
              "      <td>275.000000</td>\n",
              "      <td>275.000000</td>\n",
              "      <td>275.000000</td>\n",
              "      <td>275.000000</td>\n",
              "      <td>275.000000</td>\n",
              "    </tr>\n",
              "    <tr>\n",
              "      <th>mean</th>\n",
              "      <td>2390.080000</td>\n",
              "      <td>5293.487273</td>\n",
              "      <td>1808.065164</td>\n",
              "      <td>151.269091</td>\n",
              "      <td>322.800000</td>\n",
              "    </tr>\n",
              "    <tr>\n",
              "      <th>std</th>\n",
              "      <td>540.631512</td>\n",
              "      <td>6202.606163</td>\n",
              "      <td>3870.779628</td>\n",
              "      <td>87.834576</td>\n",
              "      <td>59.570911</td>\n",
              "    </tr>\n",
              "    <tr>\n",
              "      <th>min</th>\n",
              "      <td>1002.000000</td>\n",
              "      <td>210.000000</td>\n",
              "      <td>0.000000</td>\n",
              "      <td>9.000000</td>\n",
              "      <td>12.000000</td>\n",
              "    </tr>\n",
              "    <tr>\n",
              "      <th>25%</th>\n",
              "      <td>2314.500000</td>\n",
              "      <td>2752.500000</td>\n",
              "      <td>0.000000</td>\n",
              "      <td>100.000000</td>\n",
              "      <td>333.000000</td>\n",
              "    </tr>\n",
              "    <tr>\n",
              "      <th>50%</th>\n",
              "      <td>2529.000000</td>\n",
              "      <td>3676.000000</td>\n",
              "      <td>1287.000000</td>\n",
              "      <td>128.000000</td>\n",
              "      <td>333.000000</td>\n",
              "    </tr>\n",
              "    <tr>\n",
              "      <th>75%</th>\n",
              "      <td>2762.000000</td>\n",
              "      <td>5807.500000</td>\n",
              "      <td>2319.500000</td>\n",
              "      <td>173.000000</td>\n",
              "      <td>333.000000</td>\n",
              "    </tr>\n",
              "    <tr>\n",
              "      <th>max</th>\n",
              "      <td>2990.000000</td>\n",
              "      <td>81000.000000</td>\n",
              "      <td>41667.000000</td>\n",
              "      <td>600.000000</td>\n",
              "      <td>480.000000</td>\n",
              "    </tr>\n",
              "  </tbody>\n",
              "</table>\n",
              "</div>\n",
              "    <div class=\"colab-df-buttons\">\n",
              "\n",
              "  <div class=\"colab-df-container\">\n",
              "    <button class=\"colab-df-convert\" onclick=\"convertToInteractive('df-f99560b4-0200-4e10-a8c4-65e44836fdbc')\"\n",
              "            title=\"Convert this dataframe to an interactive table.\"\n",
              "            style=\"display:none;\">\n",
              "\n",
              "  <svg xmlns=\"http://www.w3.org/2000/svg\" height=\"24px\" viewBox=\"0 -960 960 960\">\n",
              "    <path d=\"M120-120v-720h720v720H120Zm60-500h600v-160H180v160Zm220 220h160v-160H400v160Zm0 220h160v-160H400v160ZM180-400h160v-160H180v160Zm440 0h160v-160H620v160ZM180-180h160v-160H180v160Zm440 0h160v-160H620v160Z\"/>\n",
              "  </svg>\n",
              "    </button>\n",
              "\n",
              "  <style>\n",
              "    .colab-df-container {\n",
              "      display:flex;\n",
              "      gap: 12px;\n",
              "    }\n",
              "\n",
              "    .colab-df-convert {\n",
              "      background-color: #E8F0FE;\n",
              "      border: none;\n",
              "      border-radius: 50%;\n",
              "      cursor: pointer;\n",
              "      display: none;\n",
              "      fill: #1967D2;\n",
              "      height: 32px;\n",
              "      padding: 0 0 0 0;\n",
              "      width: 32px;\n",
              "    }\n",
              "\n",
              "    .colab-df-convert:hover {\n",
              "      background-color: #E2EBFA;\n",
              "      box-shadow: 0px 1px 2px rgba(60, 64, 67, 0.3), 0px 1px 3px 1px rgba(60, 64, 67, 0.15);\n",
              "      fill: #174EA6;\n",
              "    }\n",
              "\n",
              "    .colab-df-buttons div {\n",
              "      margin-bottom: 4px;\n",
              "    }\n",
              "\n",
              "    [theme=dark] .colab-df-convert {\n",
              "      background-color: #3B4455;\n",
              "      fill: #D2E3FC;\n",
              "    }\n",
              "\n",
              "    [theme=dark] .colab-df-convert:hover {\n",
              "      background-color: #434B5C;\n",
              "      box-shadow: 0px 1px 3px 1px rgba(0, 0, 0, 0.15);\n",
              "      filter: drop-shadow(0px 1px 2px rgba(0, 0, 0, 0.3));\n",
              "      fill: #FFFFFF;\n",
              "    }\n",
              "  </style>\n",
              "\n",
              "    <script>\n",
              "      const buttonEl =\n",
              "        document.querySelector('#df-f99560b4-0200-4e10-a8c4-65e44836fdbc button.colab-df-convert');\n",
              "      buttonEl.style.display =\n",
              "        google.colab.kernel.accessAllowed ? 'block' : 'none';\n",
              "\n",
              "      async function convertToInteractive(key) {\n",
              "        const element = document.querySelector('#df-f99560b4-0200-4e10-a8c4-65e44836fdbc');\n",
              "        const dataTable =\n",
              "          await google.colab.kernel.invokeFunction('convertToInteractive',\n",
              "                                                    [key], {});\n",
              "        if (!dataTable) return;\n",
              "\n",
              "        const docLinkHtml = 'Like what you see? Visit the ' +\n",
              "          '<a target=\"_blank\" href=https://colab.research.google.com/notebooks/data_table.ipynb>data table notebook</a>'\n",
              "          + ' to learn more about interactive tables.';\n",
              "        element.innerHTML = '';\n",
              "        dataTable['output_type'] = 'display_data';\n",
              "        await google.colab.output.renderOutput(dataTable, element);\n",
              "        const docLink = document.createElement('div');\n",
              "        docLink.innerHTML = docLinkHtml;\n",
              "        element.appendChild(docLink);\n",
              "      }\n",
              "    </script>\n",
              "  </div>\n",
              "\n",
              "\n",
              "<div id=\"df-17a971cd-5edf-4922-8efe-a6ea50874cf2\">\n",
              "  <button class=\"colab-df-quickchart\" onclick=\"quickchart('df-17a971cd-5edf-4922-8efe-a6ea50874cf2')\"\n",
              "            title=\"Suggest charts.\"\n",
              "            style=\"display:none;\">\n",
              "\n",
              "<svg xmlns=\"http://www.w3.org/2000/svg\" height=\"24px\"viewBox=\"0 0 24 24\"\n",
              "     width=\"24px\">\n",
              "    <g>\n",
              "        <path d=\"M19 3H5c-1.1 0-2 .9-2 2v14c0 1.1.9 2 2 2h14c1.1 0 2-.9 2-2V5c0-1.1-.9-2-2-2zM9 17H7v-7h2v7zm4 0h-2V7h2v10zm4 0h-2v-4h2v4z\"/>\n",
              "    </g>\n",
              "</svg>\n",
              "  </button>\n",
              "\n",
              "<style>\n",
              "  .colab-df-quickchart {\n",
              "      --bg-color: #E8F0FE;\n",
              "      --fill-color: #1967D2;\n",
              "      --hover-bg-color: #E2EBFA;\n",
              "      --hover-fill-color: #174EA6;\n",
              "      --disabled-fill-color: #AAA;\n",
              "      --disabled-bg-color: #DDD;\n",
              "  }\n",
              "\n",
              "  [theme=dark] .colab-df-quickchart {\n",
              "      --bg-color: #3B4455;\n",
              "      --fill-color: #D2E3FC;\n",
              "      --hover-bg-color: #434B5C;\n",
              "      --hover-fill-color: #FFFFFF;\n",
              "      --disabled-bg-color: #3B4455;\n",
              "      --disabled-fill-color: #666;\n",
              "  }\n",
              "\n",
              "  .colab-df-quickchart {\n",
              "    background-color: var(--bg-color);\n",
              "    border: none;\n",
              "    border-radius: 50%;\n",
              "    cursor: pointer;\n",
              "    display: none;\n",
              "    fill: var(--fill-color);\n",
              "    height: 32px;\n",
              "    padding: 0;\n",
              "    width: 32px;\n",
              "  }\n",
              "\n",
              "  .colab-df-quickchart:hover {\n",
              "    background-color: var(--hover-bg-color);\n",
              "    box-shadow: 0 1px 2px rgba(60, 64, 67, 0.3), 0 1px 3px 1px rgba(60, 64, 67, 0.15);\n",
              "    fill: var(--button-hover-fill-color);\n",
              "  }\n",
              "\n",
              "  .colab-df-quickchart-complete:disabled,\n",
              "  .colab-df-quickchart-complete:disabled:hover {\n",
              "    background-color: var(--disabled-bg-color);\n",
              "    fill: var(--disabled-fill-color);\n",
              "    box-shadow: none;\n",
              "  }\n",
              "\n",
              "  .colab-df-spinner {\n",
              "    border: 2px solid var(--fill-color);\n",
              "    border-color: transparent;\n",
              "    border-bottom-color: var(--fill-color);\n",
              "    animation:\n",
              "      spin 1s steps(1) infinite;\n",
              "  }\n",
              "\n",
              "  @keyframes spin {\n",
              "    0% {\n",
              "      border-color: transparent;\n",
              "      border-bottom-color: var(--fill-color);\n",
              "      border-left-color: var(--fill-color);\n",
              "    }\n",
              "    20% {\n",
              "      border-color: transparent;\n",
              "      border-left-color: var(--fill-color);\n",
              "      border-top-color: var(--fill-color);\n",
              "    }\n",
              "    30% {\n",
              "      border-color: transparent;\n",
              "      border-left-color: var(--fill-color);\n",
              "      border-top-color: var(--fill-color);\n",
              "      border-right-color: var(--fill-color);\n",
              "    }\n",
              "    40% {\n",
              "      border-color: transparent;\n",
              "      border-right-color: var(--fill-color);\n",
              "      border-top-color: var(--fill-color);\n",
              "    }\n",
              "    60% {\n",
              "      border-color: transparent;\n",
              "      border-right-color: var(--fill-color);\n",
              "    }\n",
              "    80% {\n",
              "      border-color: transparent;\n",
              "      border-right-color: var(--fill-color);\n",
              "      border-bottom-color: var(--fill-color);\n",
              "    }\n",
              "    90% {\n",
              "      border-color: transparent;\n",
              "      border-bottom-color: var(--fill-color);\n",
              "    }\n",
              "  }\n",
              "</style>\n",
              "\n",
              "  <script>\n",
              "    async function quickchart(key) {\n",
              "      const quickchartButtonEl =\n",
              "        document.querySelector('#' + key + ' button');\n",
              "      quickchartButtonEl.disabled = true;  // To prevent multiple clicks.\n",
              "      quickchartButtonEl.classList.add('colab-df-spinner');\n",
              "      try {\n",
              "        const charts = await google.colab.kernel.invokeFunction(\n",
              "            'suggestCharts', [key], {});\n",
              "      } catch (error) {\n",
              "        console.error('Error during call to suggestCharts:', error);\n",
              "      }\n",
              "      quickchartButtonEl.classList.remove('colab-df-spinner');\n",
              "      quickchartButtonEl.classList.add('colab-df-quickchart-complete');\n",
              "    }\n",
              "    (() => {\n",
              "      let quickchartButtonEl =\n",
              "        document.querySelector('#df-17a971cd-5edf-4922-8efe-a6ea50874cf2 button');\n",
              "      quickchartButtonEl.style.display =\n",
              "        google.colab.kernel.accessAllowed ? 'block' : 'none';\n",
              "    })();\n",
              "  </script>\n",
              "</div>\n",
              "    </div>\n",
              "  </div>\n"
            ]
          },
          "metadata": {},
          "execution_count": 13
        }
      ]
    },
    {
      "cell_type": "markdown",
      "source": [
        "The concatenated DataFrame, combined_df, comprises 275 rows and 13 columns. The columns encompass various data types, including integers, floats, and objects, with a total memory usage of approximately 28.1 KB. Among the numerical columns, Applicant Income exhibits an average income of around 5,293.49, while Coapplicant Income has an average of roughly 1,808.07. LoanAmount shows an average loan amount of about 151.27, and Loan_Amount_Term primarily has values of 333. The non-numerical columns consist of categorical data that is not summarized in this brief analysis. This summary provides a concise overview of the data's dimensions, data types, and key statistics for the numerical attributes, serving as an initial insight into the dataset's characteristics."
      ],
      "metadata": {
        "id": "P2rryllCD7y_"
      }
    },
    {
      "cell_type": "code",
      "source": [
        "# Checking for Missing Values\n",
        "missing_values = combined_df.isnull().sum()\n",
        "print(\"\\nMissing Values:\\n\", missing_values)"
      ],
      "metadata": {
        "colab": {
          "base_uri": "https://localhost:8080/"
        },
        "id": "nLTWFhWFr1yZ",
        "outputId": "dff2b590-2608-48ce-cf49-f31b1afb6b67"
      },
      "execution_count": null,
      "outputs": [
        {
          "output_type": "stream",
          "name": "stdout",
          "text": [
            "\n",
            "Missing Values:\n",
            " Loan_ID              0\n",
            "Gender               0\n",
            "Married              0\n",
            "Dependents           0\n",
            "Graduate             0\n",
            "Self_Employed        0\n",
            "ApplicantIncome      0\n",
            "CoapplicantIncome    0\n",
            "LoanAmount           0\n",
            "Loan_Amount_Term     0\n",
            "Credit_History       0\n",
            "Property_Area        0\n",
            "Loan_Status          0\n",
            "dtype: int64\n"
          ]
        }
      ]
    },
    {
      "cell_type": "markdown",
      "source": [
        "The output indicates that there are no missing values (NaN) in any of the columns in the combined_df DataFrame. Each column is reported with a count of missing values, and in this case, all columns have a count of 0, signifying that there are no missing values present in the dataset."
      ],
      "metadata": {
        "id": "EIVC0tyOEbI6"
      }
    },
    {
      "cell_type": "code",
      "source": [
        "# Checking for Duplicates\n",
        "duplicates = combined_df.duplicated().sum()\n",
        "print(\"\\nDuplicate Rows:\", duplicates)"
      ],
      "metadata": {
        "colab": {
          "base_uri": "https://localhost:8080/"
        },
        "id": "eV81cCrhukOT",
        "outputId": "9d5a79c3-ac79-4bba-a61b-d2b83903f38c"
      },
      "execution_count": null,
      "outputs": [
        {
          "output_type": "stream",
          "name": "stdout",
          "text": [
            "\n",
            "Duplicate Rows: 0\n"
          ]
        }
      ]
    },
    {
      "cell_type": "markdown",
      "source": [
        "The statement \"Duplicate Rows: 0\" suggests that there are no duplicate rows in the combined_df DataFrame."
      ],
      "metadata": {
        "id": "iM7Fao1ZEhXk"
      }
    },
    {
      "cell_type": "markdown",
      "source": [
        "The code below generates comprehensive descriptive statistics for all columns, including both numeric and non-numeric data in the combined_df DataFrame. It offers insights into data characteristics, central tendencies, and outliers, aiding in data exploration and initial analysis."
      ],
      "metadata": {
        "id": "D5MFCg4HE13J"
      }
    },
    {
      "cell_type": "code",
      "source": [
        "# Generate descriptive statistics for all columns, including non-numeric\n",
        "descriptive_stats_all = combined_df.describe(include='all')\n",
        "\n",
        "# Print the descriptive statistics\n",
        "print(descriptive_stats_all)"
      ],
      "metadata": {
        "colab": {
          "base_uri": "https://localhost:8080/"
        },
        "id": "kp4JGAqVreXU",
        "outputId": "ad4ccda8-c885-4735-9e59-19a22e3bd57f"
      },
      "execution_count": null,
      "outputs": [
        {
          "output_type": "stream",
          "name": "stdout",
          "text": [
            "            Loan_ID Gender  Married Dependents   Graduate      Self_Employed  \\\n",
            "count    275.000000    275      275        275        275                275   \n",
            "unique          NaN      2        2          4          2                  2   \n",
            "top             NaN   Male  Married       None  Graduated  Not_Self Employed   \n",
            "freq            NaN    225      181        155        204                237   \n",
            "mean    2390.080000    NaN      NaN        NaN        NaN                NaN   \n",
            "std      540.631512    NaN      NaN        NaN        NaN                NaN   \n",
            "min     1002.000000    NaN      NaN        NaN        NaN                NaN   \n",
            "25%     2314.500000    NaN      NaN        NaN        NaN                NaN   \n",
            "50%     2529.000000    NaN      NaN        NaN        NaN                NaN   \n",
            "75%     2762.000000    NaN      NaN        NaN        NaN                NaN   \n",
            "max     2990.000000    NaN      NaN        NaN        NaN                NaN   \n",
            "\n",
            "        ApplicantIncome  CoapplicantIncome  LoanAmount  Loan_Amount_Term  \\\n",
            "count        275.000000         275.000000  275.000000        275.000000   \n",
            "unique              NaN                NaN         NaN               NaN   \n",
            "top                 NaN                NaN         NaN               NaN   \n",
            "freq                NaN                NaN         NaN               NaN   \n",
            "mean        5293.487273        1808.065164  151.269091        322.800000   \n",
            "std         6202.606163        3870.779628   87.834576         59.570911   \n",
            "min          210.000000           0.000000    9.000000         12.000000   \n",
            "25%         2752.500000           0.000000  100.000000        333.000000   \n",
            "50%         3676.000000        1287.000000  128.000000        333.000000   \n",
            "75%         5807.500000        2319.500000  173.000000        333.000000   \n",
            "max        81000.000000       41667.000000  600.000000        480.000000   \n",
            "\n",
            "       Credit_History Property_Area Loan_Status  \n",
            "count             275           275         275  \n",
            "unique              2             3           2  \n",
            "top         Available     Semiurban           Y  \n",
            "freq              207           101         185  \n",
            "mean              NaN           NaN         NaN  \n",
            "std               NaN           NaN         NaN  \n",
            "min               NaN           NaN         NaN  \n",
            "25%               NaN           NaN         NaN  \n",
            "50%               NaN           NaN         NaN  \n",
            "75%               NaN           NaN         NaN  \n",
            "max               NaN           NaN         NaN  \n"
          ]
        }
      ]
    },
    {
      "cell_type": "markdown",
      "source": [
        "The summary table provides a concise overview of the combined_df DataFrame, which combines data from two sources. It begins by presenting the count, which tells us that there are 275 entries for each column, indicating no missing data. The \"unique\" category reveals the number of distinct values for each column, showcasing the diversity in attributes such as gender, marital status, and dependents. \"Top\" and \"Freq\" shed light on the most common values, their frequency, and the clear dominance of certain categories.\n",
        "\n",
        "Moving on to numeric columns, we find the \"mean\" and \"std\" values, which respectively offer the average and standard deviation of variables like \"ApplicantIncome,\" \"CoapplicantIncome,\" \"LoanAmount,\" and \"Loan_Amount_Term.\" The minimum, percentiles (25%, 50%, 75%), and maximum values in these columns describe the range and distribution of the data.\n",
        "\n",
        "Categorical columns, including \"Gender,\" \"Married,\" \"Dependents,\" \"Graduate,\" \"Self_Employed,\" \"Credit_History,\" \"Property_Area,\" and \"Loan_Status,\" have their most common categories and frequencies detailed.\n",
        "\n",
        "In essence, this table acts as a quick reference, encapsulating critical statistical insights and the diversity of the dataset's attributes, making it a valuable tool for initial data exploration and understanding."
      ],
      "metadata": {
        "id": "9qLXojgBE0wS"
      }
    },
    {
      "cell_type": "markdown",
      "source": [
        "# Data Analyze and Vitualization"
      ],
      "metadata": {
        "id": "zgX4qP6WjG0m"
      }
    },
    {
      "cell_type": "markdown",
      "source": [
        "## **The percentage of female & male applicants that had their loan approved**"
      ],
      "metadata": {
        "id": "WLxBO2hwL8-t"
      }
    },
    {
      "cell_type": "code",
      "source": [
        "# Filtering the DataFrame for female applicants\n",
        "female_applicants = combined_df[combined_df['Gender'] == 'Female']\n",
        "\n",
        "# Calculating the percentage of female applicants with loan approval\n",
        "female_approval_percentage = (female_applicants['Loan_Status'] == 'Y').mean() * 100\n",
        "\n",
        "# Filtering the DataFrame for male applicants\n",
        "male_applicants = combined_df[combined_df['Gender'] == 'Male']\n",
        "\n",
        "# Calculating the percentage of male applicants with loan approval\n",
        "male_approval_percentage = (male_applicants['Loan_Status'] == 'Y').mean() * 100\n",
        "\n",
        "# Create a bar chart to visualize the results\n",
        "gender_labels = ['Female', 'Male']\n",
        "approval_percentages = [female_approval_percentage, male_approval_percentage]\n",
        "\n",
        "plt.figure(figsize=(6, 4))\n",
        "plt.bar(gender_labels, approval_percentages, color=['pink', 'blue'])\n",
        "plt.xlabel('Gender')\n",
        "plt.ylabel('Loan Approval Percentage')\n",
        "plt.title('Loan Approval Percentage by Gender')\n",
        "plt.ylim(0, 100)  # Set the y-axis limit to 0-100%\n",
        "plt.show()\n",
        "\n",
        "# Print the percentage values\n",
        "print(f\"Percentage of male applicants with loan approval: {male_approval_percentage:.2f}%\")\n",
        "print(f\"Percentage of female applicants with loan approval: {female_approval_percentage:.2f}%\")\n"
      ],
      "metadata": {
        "colab": {
          "base_uri": "https://localhost:8080/",
          "height": 445
        },
        "id": "vxb3PZq-vNOm",
        "outputId": "f7037161-ce5e-4a0f-d774-0ac615ccd396"
      },
      "execution_count": null,
      "outputs": [
        {
          "output_type": "display_data",
          "data": {
            "text/plain": [
              "<Figure size 600x400 with 1 Axes>"
            ],
            "image/png": "[encoded data removed]"
          },
          "metadata": {}
        },
        {
          "output_type": "stream",
          "name": "stdout",
          "text": [
            "Percentage of male applicants with loan approval: 67.56%\n",
            "Percentage of female applicants with loan approval: 66.00%\n"
          ]
        }
      ]
    },
    {
      "cell_type": "markdown",
      "source": [
        "This code computes the percentage of female applicants with approved loans and the percentage of male applicants with approved loans. It does this by filtering the data frame for each gender and calculating the mean of approved loans for both groups. These percentages are visualized in a bar chart where \"Female\" and \"Male\" are labeled for the x-axis, and the percentages are represented by pink and blue bars. The y-axis represents the loan approval percentage, with a range from 0% to 100%. The code concludes by printing the calculated percentage values for both female and male applicants\n",
        "\n",
        "The analysis shows that 67.56% of male applicants had their loans approved, while 66.00% of female applicants received loan approvals. This suggests that there is a slightly higher approval rate among male applicants, but the difference is not substantial. It's important to note that gender should not be the sole determining factor for loan approval, as various other factors may influence the decision."
      ],
      "metadata": {
        "id": "_MvLMfxtLZKm"
      }
    },
    {
      "cell_type": "markdown",
      "source": [
        "## **The average income of all applicants**\n"
      ],
      "metadata": {
        "id": "dSr9SfDk0eqv"
      }
    },
    {
      "cell_type": "code",
      "source": [
        "# Calculate the average income of all applicants\n",
        "average_income_all = combined_df['ApplicantIncome'].mean()\n",
        "\n",
        "# Calculate the average income of self-employed applicants\n",
        "average_income_self_employed = combined_df[combined_df['Self_Employed'] == 'Self_Employed']['ApplicantIncome'].mean()\n",
        "\n",
        "# Calculate the average income of applicants who are not self-employed\n",
        "average_income_not_self_employed = combined_df[combined_df['Self_Employed'] == 'Not_Self Employed']['ApplicantIncome'].mean()\n",
        "\n",
        "# Calculate the average income of graduate applicants\n",
        "average_income_graduate = combined_df[combined_df['Graduate'] == 'Graduated']['ApplicantIncome'].mean()\n",
        "\n",
        "# Create a bar chart to visualize the average incomes\n",
        "categories = ['All Applicants', 'Self-Employed', 'Not Self-Employed', 'Graduate']\n",
        "average_incomes = [average_income_all, average_income_self_employed, average_income_not_self_employed, average_income_graduate]\n",
        "\n",
        "plt.figure(figsize=(10, 6))\n",
        "plt.bar(categories, average_incomes, color=['blue', 'green', 'red', 'purple'])\n",
        "plt.xlabel('Applicant Groups')\n",
        "plt.ylabel('Average Income')\n",
        "plt.title('Average Income of Different Applicant Groups')\n",
        "plt.xticks(rotation=15)\n",
        "\n",
        "# Display the average income values on top of the bars\n",
        "for i, v in enumerate(average_incomes):\n",
        "    plt.text(i, v + 100, f'{v:.2f}', ha='center')\n",
        "\n",
        "# Show the bar chart\n",
        "plt.tight_layout()\n",
        "plt.show()\n",
        "\n",
        "# Print the results\n",
        "print(f\"Average income of all applicants: {average_income_all:.2f}\")\n",
        "print(f\"Average income of self-employed applicants: {average_income_self_employed:.2f}\")\n",
        "print(f\"Average income of not self-employed applicants: {average_income_not_self_employed:.2f}\")\n",
        "print(f\"Average income of graduate applicants: {average_income_graduate:.2f}\")\n"
      ],
      "metadata": {
        "colab": {
          "base_uri": "https://localhost:8080/",
          "height": 676
        },
        "id": "OppAUf1nNWHl",
        "outputId": "9ba0336c-7086-43f3-eee9-99bffcdb2a18"
      },
      "execution_count": null,
      "outputs": [
        {
          "output_type": "display_data",
          "data": {
            "text/plain": [
              "<Figure size 1000x600 with 1 Axes>"
            ],
            "image/png": "[encoded data removed]"
          },
          "metadata": {}
        },
        {
          "output_type": "stream",
          "name": "stdout",
          "text": [
            "Average income of all applicants: 5293.49\n",
            "Average income of self-employed applicants: 7683.24\n",
            "Average income of not self-employed applicants: 4910.32\n",
            "Average income of graduate applicants: 5784.37\n"
          ]
        }
      ]
    },
    {
      "cell_type": "markdown",
      "source": [
        "The analysis reveals the average income of various applicant groups. For all applicants, the average income is approximately 5293.49 pounds. Self-employed applicants have a higher average income of about 7380.82 pounds, in contrast to non-self-employed applicants, who have an average income of approximately 4914.69 pounds Graduate applicants tend to have a higher average income, around 5846.96 pounds. The accompanying bar chart visually illustrates these variations in average incomes, showing that self-employed and graduate applicants generally have higher incomes than the overall average. This information provides valuable insights into the income distribution across different applicant categories."
      ],
      "metadata": {
        "id": "Coasf9DkjpNF"
      }
    },
    {
      "cell_type": "markdown",
      "source": [
        "## **The percentage of graduate applicants that had their loan status approved**\n"
      ],
      "metadata": {
        "id": "RaqlkgRdkP6g"
      }
    },
    {
      "cell_type": "code",
      "source": [
        "# Group the data by 'Graduate' and 'Loan_Status' and calculate the loan approval rate for each combination\n",
        "grouped = combined_df.groupby(['Graduate', 'Loan_Status']).size().unstack(fill_value=0)\n",
        "grouped['Approval Rate'] = grouped['Y'] / (grouped['Y'] + grouped['N']) * 100\n",
        "\n",
        "# Calculate the percentage of graduate applicants with loan status approved\n",
        "percentage_approved_graduate = grouped.loc['Graduated', 'Approval Rate']\n",
        "\n",
        "# Create a pie chart to visualize the result\n",
        "labels = ['Approved', 'Not Approved']\n",
        "sizes = [percentage_approved_graduate, 100 - percentage_approved_graduate]\n",
        "colors = ['lightgreen', 'lightcoral']\n",
        "explode = (0.1, 0)  # Explode the first slice (i.e., 'Approved')\n",
        "\n",
        "plt.pie(sizes, labels=labels, colors=colors, explode=explode, autopct='%1.1f%%', shadow=True, startangle=140)\n",
        "plt.axis('equal')  # Equal aspect ratio ensures that pie is drawn as a circle.\n",
        "\n",
        "plt.title('Percentage of Graduate Applicants with Loan Status Approved')\n",
        "plt.show()\n",
        "\n",
        "# Print the result\n",
        "print(f\"Percentage of graduate applicants with loan status approved: {percentage_approved_graduate:.2f}%\")\n"
      ],
      "metadata": {
        "colab": {
          "base_uri": "https://localhost:8080/",
          "height": 451
        },
        "id": "gh9dEmfTlqG7",
        "outputId": "34b8f50e-f428-4720-cb1b-2e4b27d910d2"
      },
      "execution_count": null,
      "outputs": [
        {
          "output_type": "display_data",
          "data": {
            "text/plain": [
              "<Figure size 640x480 with 1 Axes>"
            ],
            "image/png": "[encoded data removed]"
          },
          "metadata": {}
        },
        {
          "output_type": "stream",
          "name": "stdout",
          "text": [
            "Percentage of graduate applicants with loan status approved: 69.61%\n"
          ]
        }
      ]
    },
    {
      "cell_type": "markdown",
      "source": [
        "## **Minimum Income Based on Gender for Loan Approvals**"
      ],
      "metadata": {
        "id": "VeOBgmBU8IHs"
      }
    },
    {
      "cell_type": "code",
      "source": [
        "# Filter the DataFrame for loan approvals and rejections\n",
        "loan_approved = combined_df[combined_df['Loan_Status'] == 'Y']\n",
        "loan_not_approved = combined_df[combined_df['Loan_Status'] == 'N']\n",
        "\n",
        "# Find the lowest income for which a loan was not approved\n",
        "lowest_income_not_approved = loan_not_approved['ApplicantIncome'].min()\n",
        "\n",
        "# Group the data by gender and find the minimum income for loan approval\n",
        "min_income_by_gender = combined_df.groupby('Gender')['ApplicantIncome'].min()\n",
        "\n",
        "# Create a bar chart to show the minimum income for loan approval based on gender\n",
        "min_income_by_gender.plot(kind='bar', color=['#ff9999', '#66b3ff'], legend=False)\n",
        "plt.title('Minimum Income for Loan Approval Based on Gender')\n",
        "plt.xlabel('Gender')\n",
        "plt.ylabel('Minimum Income')\n",
        "plt.xticks(rotation=0)\n",
        "\n",
        "plt.show()\n",
        "\n",
        "print(f\"The lowest income for which a loan was not approved: {lowest_income_not_approved}\")\n",
        "print(\"\\nMinimum income for loan approval based on gender:\")\n",
        "print(min_income_by_gender)"
      ],
      "metadata": {
        "colab": {
          "base_uri": "https://localhost:8080/",
          "height": 593
        },
        "id": "CXJg80Z7JXYk",
        "outputId": "d73cf95e-99c0-4b22-b367-d77c373a56df"
      },
      "execution_count": null,
      "outputs": [
        {
          "output_type": "display_data",
          "data": {
            "text/plain": [
              "<Figure size 640x480 with 1 Axes>"
            ],
            "image/png": "[encoded data removed]"
          },
          "metadata": {}
        },
        {
          "output_type": "stream",
          "name": "stdout",
          "text": [
            "The lowest income for which a loan was not approved: 416\n",
            "\n",
            "Minimum income for loan approval based on gender:\n",
            "Gender\n",
            "Female     210\n",
            "Male      1025\n",
            "Name: ApplicantIncome, dtype: int64\n"
          ]
        }
      ]
    },
    {
      "cell_type": "markdown",
      "source": [
        "We have analyzed the ratio of loan approvals based on gender and minimum income. This analysis will help the stakeholders to focus on a particular group and help them make an automated process to reject and review different gender and education group applicants based on minimum income."
      ],
      "metadata": {
        "id": "i_WHT9Px8ZbC"
      }
    },
    {
      "cell_type": "code",
      "source": [
        "# Filter the DataFrame to get only the rows where the loan was not approved\n",
        "not_approved = combined_df[combined_df['Loan_Status'] == 'N']\n",
        "\n",
        "# Find the lowest income for which a loan was not approved\n",
        "lowest_income_not_approved = not_approved['ApplicantIncome'].min()\n",
        "\n",
        "# Group by gender and education to find the minimum income for loan approval\n",
        "grouped = combined_df.groupby(['Gender', 'Graduate'])\n",
        "min_income_for_approval = grouped['ApplicantIncome'].min().unstack()\n",
        "\n",
        "# Create a bar chart\n",
        "min_income_for_approval.plot(kind='bar')\n",
        "plt.title('Minimum Income for Loan Approval Based on Gender and Education')\n",
        "plt.xlabel('Gender and Education')\n",
        "plt.ylabel('Minimum Income')\n",
        "plt.xticks(rotation=0)\n",
        "plt.show()\n",
        "\n",
        "print(f\"The lowest income for which a loan was not approved: {lowest_income_not_approved}\")\n"
      ],
      "metadata": {
        "colab": {
          "base_uri": "https://localhost:8080/",
          "height": 489
        },
        "id": "vN-nkl35J314",
        "outputId": "c1329590-7db7-43ad-f58b-627af514e8df"
      },
      "execution_count": null,
      "outputs": [
        {
          "output_type": "display_data",
          "data": {
            "text/plain": [
              "<Figure size 640x480 with 1 Axes>"
            ],
            "image/png": "[encoded data removed]"
          },
          "metadata": {}
        },
        {
          "output_type": "stream",
          "name": "stdout",
          "text": [
            "The lowest income for which a loan was not approved: 416\n"
          ]
        }
      ]
    },
    {
      "cell_type": "markdown",
      "source": [
        "The analysis illustrates that the minimum income for loan approval is 416, where a male applicant's minimum income is 1025 pounds and a female applicant's minimum income is 210 pounds. Further, based on education, female graduates tend to have a higher minimum income for lone approval than non-graduated applicants. Vise versa, a male graduated applicant requires less minimum income than a not graduated male applicant. It reveals that education is not prioritized in terms of female applicants, but in terms of male applicants, graduation is prioritized."
      ],
      "metadata": {
        "id": "7L-2cjaU8Tdc"
      }
    },
    {
      "cell_type": "markdown",
      "source": [
        "## **Group the data by 'Gender,' 'Self_Employed,' and 'Graduate' attributes**"
      ],
      "metadata": {
        "id": "GIUM31mZJd-j"
      }
    },
    {
      "cell_type": "code",
      "source": [
        "# Group the data by 'Gender,' 'Self_Employed,' and 'Graduate' attributes\n",
        "grouped = combined_df.groupby(['Gender', 'Self_Employed', 'Graduate'])['Loan_Status'].value_counts(normalize=True).unstack()\n",
        "grouped.fillna(0, inplace=True)  # Fill NaN values with 0\n",
        "\n",
        "# Calculate the loan approval rate for each combination\n",
        "grouped['Approval Rate'] = grouped['Y'] * 100\n",
        "\n",
        "# Find the combination with the highest approval rate for each group\n",
        "highest_approval_rates = grouped.groupby(['Gender', 'Self_Employed', 'Graduate'])['Approval Rate'].max()\n",
        "\n",
        "# Print the result\n",
        "for group, highest_rate in highest_approval_rates.iteritems():\n",
        "    print(f\"The combination with the highest loan approval rate for {group} is '{highest_rate:.2f}%'.\")\n",
        "\n",
        "# Create a combined bar chart to visualize the results\n",
        "grouped['Approval Rate'].unstack().plot(kind='bar', figsize=(12, 6))\n",
        "plt.title('Loan Approval Rate by Gender, Self-Employed, and Graduate Status')\n",
        "plt.xlabel('Gender, Self-Employed, and Graduate Status')\n",
        "plt.ylabel('Approval Rate (%)')\n",
        "plt.legend(title='Loan Status', labels=['Approved', 'Not Approved'])\n",
        "plt.xticks(rotation=45, ha='right')\n",
        "plt.tight_layout()\n",
        "plt.show()\n"
      ],
      "metadata": {
        "colab": {
          "base_uri": "https://localhost:8080/",
          "height": 781
        },
        "id": "5RP7Qkx96zz7",
        "outputId": "b93708f2-b7ce-4c8d-8978-1baf48c9c7f4"
      },
      "execution_count": null,
      "outputs": [
        {
          "output_type": "stream",
          "name": "stderr",
          "text": [
            "<ipython-input-20-4f7abd755161>:12: FutureWarning: iteritems is deprecated and will be removed in a future version. Use .items instead.\n",
            "  for group, highest_rate in highest_approval_rates.iteritems():\n"
          ]
        },
        {
          "output_type": "stream",
          "name": "stdout",
          "text": [
            "The combination with the highest loan approval rate for ('Female', 'Not_Self Employed', 'Graduated') is '67.86%'.\n",
            "The combination with the highest loan approval rate for ('Female', 'Not_Self Employed', 'Not_Graduated') is '66.67%'.\n",
            "The combination with the highest loan approval rate for ('Female', 'Self_Employed', 'Graduated') is '50.00%'.\n",
            "The combination with the highest loan approval rate for ('Female', 'Self_Employed', 'Not_Graduated') is '75.00%'.\n",
            "The combination with the highest loan approval rate for ('Male', 'Not_Self Employed', 'Graduated') is '69.18%'.\n",
            "The combination with the highest loan approval rate for ('Male', 'Not_Self Employed', 'Not_Graduated') is '60.78%'.\n",
            "The combination with the highest loan approval rate for ('Male', 'Self_Employed', 'Graduated') is '79.17%'.\n",
            "The combination with the highest loan approval rate for ('Male', 'Self_Employed', 'Not_Graduated') is '25.00%'.\n"
          ]
        },
        {
          "output_type": "display_data",
          "data": {
            "text/plain": [
              "<Figure size 1200x600 with 1 Axes>"
            ],
            "image/png": "[encoded data removed]"
          },
          "metadata": {}
        }
      ]
    },
    {
      "cell_type": "markdown",
      "source": [
        "The analysis delves into the loan approval rates based on distinct applicant categories, primarily categorized by 'Gender,' 'Self-employed' status, and 'Graduate' qualifications. By grouping the data in this manner, the study unveils intriguing insights regarding which combination within these groups yields the highest loan approval rate.\n",
        "\n",
        "Specifically, the results reveal eight unique combinations that boast the highest loan approval rates within their respective categories. These include combinations for male and female applicants, distinguishing between self-employed and non-self-employed individuals, as well as those who have graduated and those who haven't. The approval rates range from approximately 66.67% to 86.84%, emphasizing the notable variations in loan approval depending on these factors. Here, it is visible that Females who are self-employed but have not graduated get the highest percentage of approvals. In contrast, the male who is not self-employed but graduated gets the highest percentage of approvals. Whereas males who are graduated but self-employed get the lowest loan approvals. So it can be concluded that in terms of women self employment is a high priority and in terms of men not being employed graduation is a high priority.\n",
        "\n",
        "Moreover, a detailed bar chart is presented alongside the findings to provide a visual representation of the loan approval rates for each of these combinations. This visualization aids in swiftly comparing approval rates across the different categories, offering a clear understanding of how 'Gender,' 'Self-employed' status, and 'Graduate' qualifications impact the likelihood of loan approval. These insights can be invaluable for both financial institutions and prospective loan applicants when making lending decisions."
      ],
      "metadata": {
        "id": "prcB1CzFoXw-"
      }
    }
  ]
}